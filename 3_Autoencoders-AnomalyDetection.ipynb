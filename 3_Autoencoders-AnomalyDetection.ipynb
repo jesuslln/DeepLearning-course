{
  "cells": [
    {
      "cell_type": "markdown",
      "source": [
        "# **INTELIGENCIA DEL NEGOCIO / Business Intelligence**\n",
        "## **ASSIGNMENT A3 - AUTOENCODERS**\n",
        "\n",
        "**INSTRUCCIONES / RECOMENDACIONES**\n",
        "\n",
        "- Se recomienda leer con detalle la descripción de cada una de las celdas.\n",
        "- Las celdas que ya tienen código, se deberán ejecutar directamente.\n",
        "- Las celdas que están vacías, se completarán con la implementación requerida en el notebook.\n",
        "- No se incluirán más celdas de las establecidas en el presente notebook, por lo que la solución al mismo deberá implementarse exclusivamente en las celdas vacías.\n",
        "- Scikit-Learn es un paquete muy útil para las operaciones de preprocesamiento de los datos, como estandarización, normalización, codificación, etc.\n",
        "- Recuerda poner nombre a todas las layers de Keras, facilitará mucho las cosas a la hora de depurar errores.\n",
        "- Si ves que un apartado es complejo, intenta escribir y ejecutarlo de forma simplificada (por ejemplo, con menos layers o con menos features) y después vaya amplíandolo.\n",
        "- La entrega se realizará vía Moodle. Será necesario subir la solución a este notebook con el nombre: **NOMBRE_GRUPO.ipynb**\n",
        "\n",
        "- **Fecha de Publicación: 11/03/2024**\n",
        "- **Fecha de Entrega: 17/03/2024**\n",
        "- **Test: 18/03/2024**\n"
      ],
      "metadata": {
        "id": "Pl46TUtilJcB"
      },
      "id": "Pl46TUtilJcB"
    },
    {
      "cell_type": "code",
      "execution_count": 98,
      "id": "d293f593-4636-4753-ac38-75628d2ccdd1",
      "metadata": {
        "id": "d293f593-4636-4753-ac38-75628d2ccdd1"
      },
      "outputs": [],
      "source": [
        "import pandas as pd\n",
        "import random\n",
        "random.seed(0)\n",
        "import sklearn\n",
        "from sklearn.preprocessing import StandardScaler, LabelEncoder, OrdinalEncoder\n",
        "from sklearn.model_selection import train_test_split\n",
        "from sklearn.compose import ColumnTransformer\n",
        "from sklearn.preprocessing import OneHotEncoder\n",
        "from sklearn.linear_model import LogisticRegression\n",
        "from sklearn.metrics import accuracy_score, precision_score, recall_score\n",
        "\n",
        "\n",
        "import tensorflow as tf\n",
        "from tensorflow.keras import layers, losses\n",
        "from tensorflow.keras.datasets import fashion_mnist\n",
        "from tensorflow.keras.models import Model\n",
        "from tensorflow.keras.layers import Input\n",
        "\n",
        "\n",
        "import matplotlib\n",
        "import matplotlib.pyplot as plt\n",
        "\n",
        "import numpy as np"
      ]
    },
    {
      "cell_type": "markdown",
      "id": "d97c5654-f890-4ede-b6e9-1b7727affae8",
      "metadata": {
        "id": "d97c5654-f890-4ede-b6e9-1b7727affae8"
      },
      "source": [
        "# Carga de datos\n",
        "\n",
        "Vamos a usar los autoencoders para tratar de predecir si un pago con una tarjeta es un pago fraudulento. Para ello, usaremos un dataset de datos reales en el que por cuestiones de confidencialidad se han aplicado transformaciones a los campos. En concreto, se han tomado 29 características y se les ha aplicado un PCA. De esta forma, no es posible saber cuál es el significado de cada una de ellas.\n",
        "\n",
        "La columna Class del dataset indica si es un pago fradulento (1) o si no lo es (0).\n",
        "\n",
        "El dataset se puede descargar desde el siguiente enlace: https://www.kaggle.com/datasets/mlg-ulb/creditcardfraud?resource=download\n"
      ]
    },
    {
      "cell_type": "code",
      "source": [
        "from google.colab import drive\n",
        "drive.mount('/content/drive')"
      ],
      "metadata": {
        "id": "2g3VtrWplv9q",
        "colab": {
          "base_uri": "https://localhost:8080/"
        },
        "outputId": "4676b22d-1c70-4bfa-d07f-688fc1478730"
      },
      "id": "2g3VtrWplv9q",
      "execution_count": null,
      "outputs": [
        {
          "output_type": "stream",
          "name": "stdout",
          "text": [
            "Mounted at /content/drive\n"
          ]
        }
      ]
    },
    {
      "cell_type": "code",
      "execution_count": 99,
      "id": "7299d2af-b70c-491a-b324-449468c2f5b3",
      "metadata": {
        "id": "7299d2af-b70c-491a-b324-449468c2f5b3",
        "colab": {
          "base_uri": "https://localhost:8080/",
          "height": 443
        },
        "outputId": "dc2b3be0-ddc3-49bd-cf9e-7818be69d5c2"
      },
      "outputs": [
        {
          "output_type": "execute_result",
          "data": {
            "text/plain": [
              "               V1         V2        V3        V4        V5        V6  \\\n",
              "0       -1.359807  -0.072781  2.536347  1.378155 -0.338321  0.462388   \n",
              "1        1.191857   0.266151  0.166480  0.448154  0.060018 -0.082361   \n",
              "2       -1.358354  -1.340163  1.773209  0.379780 -0.503198  1.800499   \n",
              "3       -0.966272  -0.185226  1.792993 -0.863291 -0.010309  1.247203   \n",
              "4       -1.158233   0.877737  1.548718  0.403034 -0.407193  0.095921   \n",
              "...           ...        ...       ...       ...       ...       ...   \n",
              "284802 -11.881118  10.071785 -9.834783 -2.066656 -5.364473 -2.606837   \n",
              "284803  -0.732789  -0.055080  2.035030 -0.738589  0.868229  1.058415   \n",
              "284804   1.919565  -0.301254 -3.249640 -0.557828  2.630515  3.031260   \n",
              "284805  -0.240440   0.530483  0.702510  0.689799 -0.377961  0.623708   \n",
              "284806  -0.533413  -0.189733  0.703337 -0.506271 -0.012546 -0.649617   \n",
              "\n",
              "              V7        V8        V9       V10  ...       V21       V22  \\\n",
              "0       0.239599  0.098698  0.363787  0.090794  ... -0.018307  0.277838   \n",
              "1      -0.078803  0.085102 -0.255425 -0.166974  ... -0.225775 -0.638672   \n",
              "2       0.791461  0.247676 -1.514654  0.207643  ...  0.247998  0.771679   \n",
              "3       0.237609  0.377436 -1.387024 -0.054952  ... -0.108300  0.005274   \n",
              "4       0.592941 -0.270533  0.817739  0.753074  ... -0.009431  0.798278   \n",
              "...          ...       ...       ...       ...  ...       ...       ...   \n",
              "284802 -4.918215  7.305334  1.914428  4.356170  ...  0.213454  0.111864   \n",
              "284803  0.024330  0.294869  0.584800 -0.975926  ...  0.214205  0.924384   \n",
              "284804 -0.296827  0.708417  0.432454 -0.484782  ...  0.232045  0.578229   \n",
              "284805 -0.686180  0.679145  0.392087 -0.399126  ...  0.265245  0.800049   \n",
              "284806  1.577006 -0.414650  0.486180 -0.915427  ...  0.261057  0.643078   \n",
              "\n",
              "             V23       V24       V25       V26       V27       V28  Amount  \\\n",
              "0      -0.110474  0.066928  0.128539 -0.189115  0.133558 -0.021053  149.62   \n",
              "1       0.101288 -0.339846  0.167170  0.125895 -0.008983  0.014724    2.69   \n",
              "2       0.909412 -0.689281 -0.327642 -0.139097 -0.055353 -0.059752  378.66   \n",
              "3      -0.190321 -1.175575  0.647376 -0.221929  0.062723  0.061458  123.50   \n",
              "4      -0.137458  0.141267 -0.206010  0.502292  0.219422  0.215153   69.99   \n",
              "...          ...       ...       ...       ...       ...       ...     ...   \n",
              "284802  1.014480 -0.509348  1.436807  0.250034  0.943651  0.823731    0.77   \n",
              "284803  0.012463 -1.016226 -0.606624 -0.395255  0.068472 -0.053527   24.79   \n",
              "284804 -0.037501  0.640134  0.265745 -0.087371  0.004455 -0.026561   67.88   \n",
              "284805 -0.163298  0.123205 -0.569159  0.546668  0.108821  0.104533   10.00   \n",
              "284806  0.376777  0.008797 -0.473649 -0.818267 -0.002415  0.013649  217.00   \n",
              "\n",
              "        Class  \n",
              "0           0  \n",
              "1           0  \n",
              "2           0  \n",
              "3           0  \n",
              "4           0  \n",
              "...       ...  \n",
              "284802      0  \n",
              "284803      0  \n",
              "284804      0  \n",
              "284805      0  \n",
              "284806      0  \n",
              "\n",
              "[284807 rows x 30 columns]"
            ],
            "text/html": [
              "\n",
              "  <div id=\"df-878a5f94-e161-421d-bbc4-85f2321d0f1e\" class=\"colab-df-container\">\n",
              "    <div>\n",
              "<style scoped>\n",
              "    .dataframe tbody tr th:only-of-type {\n",
              "        vertical-align: middle;\n",
              "    }\n",
              "\n",
              "    .dataframe tbody tr th {\n",
              "        vertical-align: top;\n",
              "    }\n",
              "\n",
              "    .dataframe thead th {\n",
              "        text-align: right;\n",
              "    }\n",
              "</style>\n",
              "<table border=\"1\" class=\"dataframe\">\n",
              "  <thead>\n",
              "    <tr style=\"text-align: right;\">\n",
              "      <th></th>\n",
              "      <th>V1</th>\n",
              "      <th>V2</th>\n",
              "      <th>V3</th>\n",
              "      <th>V4</th>\n",
              "      <th>V5</th>\n",
              "      <th>V6</th>\n",
              "      <th>V7</th>\n",
              "      <th>V8</th>\n",
              "      <th>V9</th>\n",
              "      <th>V10</th>\n",
              "      <th>...</th>\n",
              "      <th>V21</th>\n",
              "      <th>V22</th>\n",
              "      <th>V23</th>\n",
              "      <th>V24</th>\n",
              "      <th>V25</th>\n",
              "      <th>V26</th>\n",
              "      <th>V27</th>\n",
              "      <th>V28</th>\n",
              "      <th>Amount</th>\n",
              "      <th>Class</th>\n",
              "    </tr>\n",
              "  </thead>\n",
              "  <tbody>\n",
              "    <tr>\n",
              "      <th>0</th>\n",
              "      <td>-1.359807</td>\n",
              "      <td>-0.072781</td>\n",
              "      <td>2.536347</td>\n",
              "      <td>1.378155</td>\n",
              "      <td>-0.338321</td>\n",
              "      <td>0.462388</td>\n",
              "      <td>0.239599</td>\n",
              "      <td>0.098698</td>\n",
              "      <td>0.363787</td>\n",
              "      <td>0.090794</td>\n",
              "      <td>...</td>\n",
              "      <td>-0.018307</td>\n",
              "      <td>0.277838</td>\n",
              "      <td>-0.110474</td>\n",
              "      <td>0.066928</td>\n",
              "      <td>0.128539</td>\n",
              "      <td>-0.189115</td>\n",
              "      <td>0.133558</td>\n",
              "      <td>-0.021053</td>\n",
              "      <td>149.62</td>\n",
              "      <td>0</td>\n",
              "    </tr>\n",
              "    <tr>\n",
              "      <th>1</th>\n",
              "      <td>1.191857</td>\n",
              "      <td>0.266151</td>\n",
              "      <td>0.166480</td>\n",
              "      <td>0.448154</td>\n",
              "      <td>0.060018</td>\n",
              "      <td>-0.082361</td>\n",
              "      <td>-0.078803</td>\n",
              "      <td>0.085102</td>\n",
              "      <td>-0.255425</td>\n",
              "      <td>-0.166974</td>\n",
              "      <td>...</td>\n",
              "      <td>-0.225775</td>\n",
              "      <td>-0.638672</td>\n",
              "      <td>0.101288</td>\n",
              "      <td>-0.339846</td>\n",
              "      <td>0.167170</td>\n",
              "      <td>0.125895</td>\n",
              "      <td>-0.008983</td>\n",
              "      <td>0.014724</td>\n",
              "      <td>2.69</td>\n",
              "      <td>0</td>\n",
              "    </tr>\n",
              "    <tr>\n",
              "      <th>2</th>\n",
              "      <td>-1.358354</td>\n",
              "      <td>-1.340163</td>\n",
              "      <td>1.773209</td>\n",
              "      <td>0.379780</td>\n",
              "      <td>-0.503198</td>\n",
              "      <td>1.800499</td>\n",
              "      <td>0.791461</td>\n",
              "      <td>0.247676</td>\n",
              "      <td>-1.514654</td>\n",
              "      <td>0.207643</td>\n",
              "      <td>...</td>\n",
              "      <td>0.247998</td>\n",
              "      <td>0.771679</td>\n",
              "      <td>0.909412</td>\n",
              "      <td>-0.689281</td>\n",
              "      <td>-0.327642</td>\n",
              "      <td>-0.139097</td>\n",
              "      <td>-0.055353</td>\n",
              "      <td>-0.059752</td>\n",
              "      <td>378.66</td>\n",
              "      <td>0</td>\n",
              "    </tr>\n",
              "    <tr>\n",
              "      <th>3</th>\n",
              "      <td>-0.966272</td>\n",
              "      <td>-0.185226</td>\n",
              "      <td>1.792993</td>\n",
              "      <td>-0.863291</td>\n",
              "      <td>-0.010309</td>\n",
              "      <td>1.247203</td>\n",
              "      <td>0.237609</td>\n",
              "      <td>0.377436</td>\n",
              "      <td>-1.387024</td>\n",
              "      <td>-0.054952</td>\n",
              "      <td>...</td>\n",
              "      <td>-0.108300</td>\n",
              "      <td>0.005274</td>\n",
              "      <td>-0.190321</td>\n",
              "      <td>-1.175575</td>\n",
              "      <td>0.647376</td>\n",
              "      <td>-0.221929</td>\n",
              "      <td>0.062723</td>\n",
              "      <td>0.061458</td>\n",
              "      <td>123.50</td>\n",
              "      <td>0</td>\n",
              "    </tr>\n",
              "    <tr>\n",
              "      <th>4</th>\n",
              "      <td>-1.158233</td>\n",
              "      <td>0.877737</td>\n",
              "      <td>1.548718</td>\n",
              "      <td>0.403034</td>\n",
              "      <td>-0.407193</td>\n",
              "      <td>0.095921</td>\n",
              "      <td>0.592941</td>\n",
              "      <td>-0.270533</td>\n",
              "      <td>0.817739</td>\n",
              "      <td>0.753074</td>\n",
              "      <td>...</td>\n",
              "      <td>-0.009431</td>\n",
              "      <td>0.798278</td>\n",
              "      <td>-0.137458</td>\n",
              "      <td>0.141267</td>\n",
              "      <td>-0.206010</td>\n",
              "      <td>0.502292</td>\n",
              "      <td>0.219422</td>\n",
              "      <td>0.215153</td>\n",
              "      <td>69.99</td>\n",
              "      <td>0</td>\n",
              "    </tr>\n",
              "    <tr>\n",
              "      <th>...</th>\n",
              "      <td>...</td>\n",
              "      <td>...</td>\n",
              "      <td>...</td>\n",
              "      <td>...</td>\n",
              "      <td>...</td>\n",
              "      <td>...</td>\n",
              "      <td>...</td>\n",
              "      <td>...</td>\n",
              "      <td>...</td>\n",
              "      <td>...</td>\n",
              "      <td>...</td>\n",
              "      <td>...</td>\n",
              "      <td>...</td>\n",
              "      <td>...</td>\n",
              "      <td>...</td>\n",
              "      <td>...</td>\n",
              "      <td>...</td>\n",
              "      <td>...</td>\n",
              "      <td>...</td>\n",
              "      <td>...</td>\n",
              "      <td>...</td>\n",
              "    </tr>\n",
              "    <tr>\n",
              "      <th>284802</th>\n",
              "      <td>-11.881118</td>\n",
              "      <td>10.071785</td>\n",
              "      <td>-9.834783</td>\n",
              "      <td>-2.066656</td>\n",
              "      <td>-5.364473</td>\n",
              "      <td>-2.606837</td>\n",
              "      <td>-4.918215</td>\n",
              "      <td>7.305334</td>\n",
              "      <td>1.914428</td>\n",
              "      <td>4.356170</td>\n",
              "      <td>...</td>\n",
              "      <td>0.213454</td>\n",
              "      <td>0.111864</td>\n",
              "      <td>1.014480</td>\n",
              "      <td>-0.509348</td>\n",
              "      <td>1.436807</td>\n",
              "      <td>0.250034</td>\n",
              "      <td>0.943651</td>\n",
              "      <td>0.823731</td>\n",
              "      <td>0.77</td>\n",
              "      <td>0</td>\n",
              "    </tr>\n",
              "    <tr>\n",
              "      <th>284803</th>\n",
              "      <td>-0.732789</td>\n",
              "      <td>-0.055080</td>\n",
              "      <td>2.035030</td>\n",
              "      <td>-0.738589</td>\n",
              "      <td>0.868229</td>\n",
              "      <td>1.058415</td>\n",
              "      <td>0.024330</td>\n",
              "      <td>0.294869</td>\n",
              "      <td>0.584800</td>\n",
              "      <td>-0.975926</td>\n",
              "      <td>...</td>\n",
              "      <td>0.214205</td>\n",
              "      <td>0.924384</td>\n",
              "      <td>0.012463</td>\n",
              "      <td>-1.016226</td>\n",
              "      <td>-0.606624</td>\n",
              "      <td>-0.395255</td>\n",
              "      <td>0.068472</td>\n",
              "      <td>-0.053527</td>\n",
              "      <td>24.79</td>\n",
              "      <td>0</td>\n",
              "    </tr>\n",
              "    <tr>\n",
              "      <th>284804</th>\n",
              "      <td>1.919565</td>\n",
              "      <td>-0.301254</td>\n",
              "      <td>-3.249640</td>\n",
              "      <td>-0.557828</td>\n",
              "      <td>2.630515</td>\n",
              "      <td>3.031260</td>\n",
              "      <td>-0.296827</td>\n",
              "      <td>0.708417</td>\n",
              "      <td>0.432454</td>\n",
              "      <td>-0.484782</td>\n",
              "      <td>...</td>\n",
              "      <td>0.232045</td>\n",
              "      <td>0.578229</td>\n",
              "      <td>-0.037501</td>\n",
              "      <td>0.640134</td>\n",
              "      <td>0.265745</td>\n",
              "      <td>-0.087371</td>\n",
              "      <td>0.004455</td>\n",
              "      <td>-0.026561</td>\n",
              "      <td>67.88</td>\n",
              "      <td>0</td>\n",
              "    </tr>\n",
              "    <tr>\n",
              "      <th>284805</th>\n",
              "      <td>-0.240440</td>\n",
              "      <td>0.530483</td>\n",
              "      <td>0.702510</td>\n",
              "      <td>0.689799</td>\n",
              "      <td>-0.377961</td>\n",
              "      <td>0.623708</td>\n",
              "      <td>-0.686180</td>\n",
              "      <td>0.679145</td>\n",
              "      <td>0.392087</td>\n",
              "      <td>-0.399126</td>\n",
              "      <td>...</td>\n",
              "      <td>0.265245</td>\n",
              "      <td>0.800049</td>\n",
              "      <td>-0.163298</td>\n",
              "      <td>0.123205</td>\n",
              "      <td>-0.569159</td>\n",
              "      <td>0.546668</td>\n",
              "      <td>0.108821</td>\n",
              "      <td>0.104533</td>\n",
              "      <td>10.00</td>\n",
              "      <td>0</td>\n",
              "    </tr>\n",
              "    <tr>\n",
              "      <th>284806</th>\n",
              "      <td>-0.533413</td>\n",
              "      <td>-0.189733</td>\n",
              "      <td>0.703337</td>\n",
              "      <td>-0.506271</td>\n",
              "      <td>-0.012546</td>\n",
              "      <td>-0.649617</td>\n",
              "      <td>1.577006</td>\n",
              "      <td>-0.414650</td>\n",
              "      <td>0.486180</td>\n",
              "      <td>-0.915427</td>\n",
              "      <td>...</td>\n",
              "      <td>0.261057</td>\n",
              "      <td>0.643078</td>\n",
              "      <td>0.376777</td>\n",
              "      <td>0.008797</td>\n",
              "      <td>-0.473649</td>\n",
              "      <td>-0.818267</td>\n",
              "      <td>-0.002415</td>\n",
              "      <td>0.013649</td>\n",
              "      <td>217.00</td>\n",
              "      <td>0</td>\n",
              "    </tr>\n",
              "  </tbody>\n",
              "</table>\n",
              "<p>284807 rows × 30 columns</p>\n",
              "</div>\n",
              "    <div class=\"colab-df-buttons\">\n",
              "\n",
              "  <div class=\"colab-df-container\">\n",
              "    <button class=\"colab-df-convert\" onclick=\"convertToInteractive('df-878a5f94-e161-421d-bbc4-85f2321d0f1e')\"\n",
              "            title=\"Convert this dataframe to an interactive table.\"\n",
              "            style=\"display:none;\">\n",
              "\n",
              "  <svg xmlns=\"http://www.w3.org/2000/svg\" height=\"24px\" viewBox=\"0 -960 960 960\">\n",
              "    <path d=\"M120-120v-720h720v720H120Zm60-500h600v-160H180v160Zm220 220h160v-160H400v160Zm0 220h160v-160H400v160ZM180-400h160v-160H180v160Zm440 0h160v-160H620v160ZM180-180h160v-160H180v160Zm440 0h160v-160H620v160Z\"/>\n",
              "  </svg>\n",
              "    </button>\n",
              "\n",
              "  <style>\n",
              "    .colab-df-container {\n",
              "      display:flex;\n",
              "      gap: 12px;\n",
              "    }\n",
              "\n",
              "    .colab-df-convert {\n",
              "      background-color: #E8F0FE;\n",
              "      border: none;\n",
              "      border-radius: 50%;\n",
              "      cursor: pointer;\n",
              "      display: none;\n",
              "      fill: #1967D2;\n",
              "      height: 32px;\n",
              "      padding: 0 0 0 0;\n",
              "      width: 32px;\n",
              "    }\n",
              "\n",
              "    .colab-df-convert:hover {\n",
              "      background-color: #E2EBFA;\n",
              "      box-shadow: 0px 1px 2px rgba(60, 64, 67, 0.3), 0px 1px 3px 1px rgba(60, 64, 67, 0.15);\n",
              "      fill: #174EA6;\n",
              "    }\n",
              "\n",
              "    .colab-df-buttons div {\n",
              "      margin-bottom: 4px;\n",
              "    }\n",
              "\n",
              "    [theme=dark] .colab-df-convert {\n",
              "      background-color: #3B4455;\n",
              "      fill: #D2E3FC;\n",
              "    }\n",
              "\n",
              "    [theme=dark] .colab-df-convert:hover {\n",
              "      background-color: #434B5C;\n",
              "      box-shadow: 0px 1px 3px 1px rgba(0, 0, 0, 0.15);\n",
              "      filter: drop-shadow(0px 1px 2px rgba(0, 0, 0, 0.3));\n",
              "      fill: #FFFFFF;\n",
              "    }\n",
              "  </style>\n",
              "\n",
              "    <script>\n",
              "      const buttonEl =\n",
              "        document.querySelector('#df-878a5f94-e161-421d-bbc4-85f2321d0f1e button.colab-df-convert');\n",
              "      buttonEl.style.display =\n",
              "        google.colab.kernel.accessAllowed ? 'block' : 'none';\n",
              "\n",
              "      async function convertToInteractive(key) {\n",
              "        const element = document.querySelector('#df-878a5f94-e161-421d-bbc4-85f2321d0f1e');\n",
              "        const dataTable =\n",
              "          await google.colab.kernel.invokeFunction('convertToInteractive',\n",
              "                                                    [key], {});\n",
              "        if (!dataTable) return;\n",
              "\n",
              "        const docLinkHtml = 'Like what you see? Visit the ' +\n",
              "          '<a target=\"_blank\" href=https://colab.research.google.com/notebooks/data_table.ipynb>data table notebook</a>'\n",
              "          + ' to learn more about interactive tables.';\n",
              "        element.innerHTML = '';\n",
              "        dataTable['output_type'] = 'display_data';\n",
              "        await google.colab.output.renderOutput(dataTable, element);\n",
              "        const docLink = document.createElement('div');\n",
              "        docLink.innerHTML = docLinkHtml;\n",
              "        element.appendChild(docLink);\n",
              "      }\n",
              "    </script>\n",
              "  </div>\n",
              "\n",
              "\n",
              "<div id=\"df-3f10bf33-fb7c-45cc-991b-1c6c10fb7213\">\n",
              "  <button class=\"colab-df-quickchart\" onclick=\"quickchart('df-3f10bf33-fb7c-45cc-991b-1c6c10fb7213')\"\n",
              "            title=\"Suggest charts\"\n",
              "            style=\"display:none;\">\n",
              "\n",
              "<svg xmlns=\"http://www.w3.org/2000/svg\" height=\"24px\"viewBox=\"0 0 24 24\"\n",
              "     width=\"24px\">\n",
              "    <g>\n",
              "        <path d=\"M19 3H5c-1.1 0-2 .9-2 2v14c0 1.1.9 2 2 2h14c1.1 0 2-.9 2-2V5c0-1.1-.9-2-2-2zM9 17H7v-7h2v7zm4 0h-2V7h2v10zm4 0h-2v-4h2v4z\"/>\n",
              "    </g>\n",
              "</svg>\n",
              "  </button>\n",
              "\n",
              "<style>\n",
              "  .colab-df-quickchart {\n",
              "      --bg-color: #E8F0FE;\n",
              "      --fill-color: #1967D2;\n",
              "      --hover-bg-color: #E2EBFA;\n",
              "      --hover-fill-color: #174EA6;\n",
              "      --disabled-fill-color: #AAA;\n",
              "      --disabled-bg-color: #DDD;\n",
              "  }\n",
              "\n",
              "  [theme=dark] .colab-df-quickchart {\n",
              "      --bg-color: #3B4455;\n",
              "      --fill-color: #D2E3FC;\n",
              "      --hover-bg-color: #434B5C;\n",
              "      --hover-fill-color: #FFFFFF;\n",
              "      --disabled-bg-color: #3B4455;\n",
              "      --disabled-fill-color: #666;\n",
              "  }\n",
              "\n",
              "  .colab-df-quickchart {\n",
              "    background-color: var(--bg-color);\n",
              "    border: none;\n",
              "    border-radius: 50%;\n",
              "    cursor: pointer;\n",
              "    display: none;\n",
              "    fill: var(--fill-color);\n",
              "    height: 32px;\n",
              "    padding: 0;\n",
              "    width: 32px;\n",
              "  }\n",
              "\n",
              "  .colab-df-quickchart:hover {\n",
              "    background-color: var(--hover-bg-color);\n",
              "    box-shadow: 0 1px 2px rgba(60, 64, 67, 0.3), 0 1px 3px 1px rgba(60, 64, 67, 0.15);\n",
              "    fill: var(--button-hover-fill-color);\n",
              "  }\n",
              "\n",
              "  .colab-df-quickchart-complete:disabled,\n",
              "  .colab-df-quickchart-complete:disabled:hover {\n",
              "    background-color: var(--disabled-bg-color);\n",
              "    fill: var(--disabled-fill-color);\n",
              "    box-shadow: none;\n",
              "  }\n",
              "\n",
              "  .colab-df-spinner {\n",
              "    border: 2px solid var(--fill-color);\n",
              "    border-color: transparent;\n",
              "    border-bottom-color: var(--fill-color);\n",
              "    animation:\n",
              "      spin 1s steps(1) infinite;\n",
              "  }\n",
              "\n",
              "  @keyframes spin {\n",
              "    0% {\n",
              "      border-color: transparent;\n",
              "      border-bottom-color: var(--fill-color);\n",
              "      border-left-color: var(--fill-color);\n",
              "    }\n",
              "    20% {\n",
              "      border-color: transparent;\n",
              "      border-left-color: var(--fill-color);\n",
              "      border-top-color: var(--fill-color);\n",
              "    }\n",
              "    30% {\n",
              "      border-color: transparent;\n",
              "      border-left-color: var(--fill-color);\n",
              "      border-top-color: var(--fill-color);\n",
              "      border-right-color: var(--fill-color);\n",
              "    }\n",
              "    40% {\n",
              "      border-color: transparent;\n",
              "      border-right-color: var(--fill-color);\n",
              "      border-top-color: var(--fill-color);\n",
              "    }\n",
              "    60% {\n",
              "      border-color: transparent;\n",
              "      border-right-color: var(--fill-color);\n",
              "    }\n",
              "    80% {\n",
              "      border-color: transparent;\n",
              "      border-right-color: var(--fill-color);\n",
              "      border-bottom-color: var(--fill-color);\n",
              "    }\n",
              "    90% {\n",
              "      border-color: transparent;\n",
              "      border-bottom-color: var(--fill-color);\n",
              "    }\n",
              "  }\n",
              "</style>\n",
              "\n",
              "  <script>\n",
              "    async function quickchart(key) {\n",
              "      const quickchartButtonEl =\n",
              "        document.querySelector('#' + key + ' button');\n",
              "      quickchartButtonEl.disabled = true;  // To prevent multiple clicks.\n",
              "      quickchartButtonEl.classList.add('colab-df-spinner');\n",
              "      try {\n",
              "        const charts = await google.colab.kernel.invokeFunction(\n",
              "            'suggestCharts', [key], {});\n",
              "      } catch (error) {\n",
              "        console.error('Error during call to suggestCharts:', error);\n",
              "      }\n",
              "      quickchartButtonEl.classList.remove('colab-df-spinner');\n",
              "      quickchartButtonEl.classList.add('colab-df-quickchart-complete');\n",
              "    }\n",
              "    (() => {\n",
              "      let quickchartButtonEl =\n",
              "        document.querySelector('#df-3f10bf33-fb7c-45cc-991b-1c6c10fb7213 button');\n",
              "      quickchartButtonEl.style.display =\n",
              "        google.colab.kernel.accessAllowed ? 'block' : 'none';\n",
              "    })();\n",
              "  </script>\n",
              "</div>\n",
              "    </div>\n",
              "  </div>\n"
            ],
            "application/vnd.google.colaboratory.intrinsic+json": {
              "type": "dataframe",
              "variable_name": "pd_data"
            }
          },
          "metadata": {},
          "execution_count": 99
        }
      ],
      "source": [
        "# Victor\n",
        "# pd_data = pd.read_csv(\"/content/drive/MyDrive/Colab Notebooks/Deep_Learning/Proyecto3/creditcard.csv\").drop(columns=[\"Time\"])\n",
        "\n",
        "# Jesus - Anomaly Detection example using keras -> https://keras.io/examples/timeseries/timeseries_anomaly_detection/\n",
        "# Mirar Notebook Autoencoder ejemplo 3.\n",
        "pd_data = pd.read_csv(\"/content/drive/MyDrive/data/creditcard.csv\").drop(columns=[\"Time\"])\n",
        "pd_data"
      ]
    },
    {
      "cell_type": "markdown",
      "id": "dc76f888-c7f8-48fe-8057-bf650f722741",
      "metadata": {
        "id": "dc76f888-c7f8-48fe-8057-bf650f722741"
      },
      "source": [
        "# Exploratorio\n",
        "Realice un exploratorio simple de las features. Céntrese en la columna \"Amount\" que no ha sido tranformada y el target de la columna \"Class\"."
      ]
    },
    {
      "cell_type": "code",
      "execution_count": 100,
      "id": "e0d8a31d-80f2-4cd8-ae9a-e7bac33a7ecf",
      "metadata": {
        "id": "e0d8a31d-80f2-4cd8-ae9a-e7bac33a7ecf",
        "colab": {
          "base_uri": "https://localhost:8080/",
          "height": 1000
        },
        "outputId": "4cba7bae-4638-40fd-bfd1-36db57062809"
      },
      "outputs": [
        {
          "output_type": "stream",
          "name": "stdout",
          "text": [
            "Hay  492  unos y  284315  ceros. Por lo que el data set está imbalanceado\n",
            "<class 'pandas.core.frame.DataFrame'>\n",
            "RangeIndex: 284807 entries, 0 to 284806\n",
            "Data columns (total 2 columns):\n",
            " #   Column  Non-Null Count   Dtype  \n",
            "---  ------  --------------   -----  \n",
            " 0   Amount  284807 non-null  float64\n",
            " 1   Class   284807 non-null  int64  \n",
            "dtypes: float64(1), int64(1)\n",
            "memory usage: 4.3 MB\n"
          ]
        },
        {
          "output_type": "display_data",
          "data": {
            "text/plain": [
              "<Figure size 640x480 with 1 Axes>"
            ],
            "image/png": "[encoded data removed]"
          },
          "metadata": {}
        },
        {
          "output_type": "display_data",
          "data": {
            "text/plain": [
              "<Figure size 480x480 with 1 Axes>"
            ],
            "image/png": "[encoded data removed]"
          },
          "metadata": {}
        },
        {
          "output_type": "execute_result",
          "data": {
            "text/plain": [
              "              Amount          Class\n",
              "count  284807.000000  284807.000000\n",
              "mean       88.349619       0.001727\n",
              "std       250.120109       0.041527\n",
              "min         0.000000       0.000000\n",
              "25%         5.600000       0.000000\n",
              "50%        22.000000       0.000000\n",
              "75%        77.165000       0.000000\n",
              "max     25691.160000       1.000000"
            ],
            "text/html": [
              "\n",
              "  <div id=\"df-da958b5e-57d4-44a8-bbc2-97144d829202\" class=\"colab-df-container\">\n",
              "    <div>\n",
              "<style scoped>\n",
              "    .dataframe tbody tr th:only-of-type {\n",
              "        vertical-align: middle;\n",
              "    }\n",
              "\n",
              "    .dataframe tbody tr th {\n",
              "        vertical-align: top;\n",
              "    }\n",
              "\n",
              "    .dataframe thead th {\n",
              "        text-align: right;\n",
              "    }\n",
              "</style>\n",
              "<table border=\"1\" class=\"dataframe\">\n",
              "  <thead>\n",
              "    <tr style=\"text-align: right;\">\n",
              "      <th></th>\n",
              "      <th>Amount</th>\n",
              "      <th>Class</th>\n",
              "    </tr>\n",
              "  </thead>\n",
              "  <tbody>\n",
              "    <tr>\n",
              "      <th>count</th>\n",
              "      <td>284807.000000</td>\n",
              "      <td>284807.000000</td>\n",
              "    </tr>\n",
              "    <tr>\n",
              "      <th>mean</th>\n",
              "      <td>88.349619</td>\n",
              "      <td>0.001727</td>\n",
              "    </tr>\n",
              "    <tr>\n",
              "      <th>std</th>\n",
              "      <td>250.120109</td>\n",
              "      <td>0.041527</td>\n",
              "    </tr>\n",
              "    <tr>\n",
              "      <th>min</th>\n",
              "      <td>0.000000</td>\n",
              "      <td>0.000000</td>\n",
              "    </tr>\n",
              "    <tr>\n",
              "      <th>25%</th>\n",
              "      <td>5.600000</td>\n",
              "      <td>0.000000</td>\n",
              "    </tr>\n",
              "    <tr>\n",
              "      <th>50%</th>\n",
              "      <td>22.000000</td>\n",
              "      <td>0.000000</td>\n",
              "    </tr>\n",
              "    <tr>\n",
              "      <th>75%</th>\n",
              "      <td>77.165000</td>\n",
              "      <td>0.000000</td>\n",
              "    </tr>\n",
              "    <tr>\n",
              "      <th>max</th>\n",
              "      <td>25691.160000</td>\n",
              "      <td>1.000000</td>\n",
              "    </tr>\n",
              "  </tbody>\n",
              "</table>\n",
              "</div>\n",
              "    <div class=\"colab-df-buttons\">\n",
              "\n",
              "  <div class=\"colab-df-container\">\n",
              "    <button class=\"colab-df-convert\" onclick=\"convertToInteractive('df-da958b5e-57d4-44a8-bbc2-97144d829202')\"\n",
              "            title=\"Convert this dataframe to an interactive table.\"\n",
              "            style=\"display:none;\">\n",
              "\n",
              "  <svg xmlns=\"http://www.w3.org/2000/svg\" height=\"24px\" viewBox=\"0 -960 960 960\">\n",
              "    <path d=\"M120-120v-720h720v720H120Zm60-500h600v-160H180v160Zm220 220h160v-160H400v160Zm0 220h160v-160H400v160ZM180-400h160v-160H180v160Zm440 0h160v-160H620v160ZM180-180h160v-160H180v160Zm440 0h160v-160H620v160Z\"/>\n",
              "  </svg>\n",
              "    </button>\n",
              "\n",
              "  <style>\n",
              "    .colab-df-container {\n",
              "      display:flex;\n",
              "      gap: 12px;\n",
              "    }\n",
              "\n",
              "    .colab-df-convert {\n",
              "      background-color: #E8F0FE;\n",
              "      border: none;\n",
              "      border-radius: 50%;\n",
              "      cursor: pointer;\n",
              "      display: none;\n",
              "      fill: #1967D2;\n",
              "      height: 32px;\n",
              "      padding: 0 0 0 0;\n",
              "      width: 32px;\n",
              "    }\n",
              "\n",
              "    .colab-df-convert:hover {\n",
              "      background-color: #E2EBFA;\n",
              "      box-shadow: 0px 1px 2px rgba(60, 64, 67, 0.3), 0px 1px 3px 1px rgba(60, 64, 67, 0.15);\n",
              "      fill: #174EA6;\n",
              "    }\n",
              "\n",
              "    .colab-df-buttons div {\n",
              "      margin-bottom: 4px;\n",
              "    }\n",
              "\n",
              "    [theme=dark] .colab-df-convert {\n",
              "      background-color: #3B4455;\n",
              "      fill: #D2E3FC;\n",
              "    }\n",
              "\n",
              "    [theme=dark] .colab-df-convert:hover {\n",
              "      background-color: #434B5C;\n",
              "      box-shadow: 0px 1px 3px 1px rgba(0, 0, 0, 0.15);\n",
              "      filter: drop-shadow(0px 1px 2px rgba(0, 0, 0, 0.3));\n",
              "      fill: #FFFFFF;\n",
              "    }\n",
              "  </style>\n",
              "\n",
              "    <script>\n",
              "      const buttonEl =\n",
              "        document.querySelector('#df-da958b5e-57d4-44a8-bbc2-97144d829202 button.colab-df-convert');\n",
              "      buttonEl.style.display =\n",
              "        google.colab.kernel.accessAllowed ? 'block' : 'none';\n",
              "\n",
              "      async function convertToInteractive(key) {\n",
              "        const element = document.querySelector('#df-da958b5e-57d4-44a8-bbc2-97144d829202');\n",
              "        const dataTable =\n",
              "          await google.colab.kernel.invokeFunction('convertToInteractive',\n",
              "                                                    [key], {});\n",
              "        if (!dataTable) return;\n",
              "\n",
              "        const docLinkHtml = 'Like what you see? Visit the ' +\n",
              "          '<a target=\"_blank\" href=https://colab.research.google.com/notebooks/data_table.ipynb>data table notebook</a>'\n",
              "          + ' to learn more about interactive tables.';\n",
              "        element.innerHTML = '';\n",
              "        dataTable['output_type'] = 'display_data';\n",
              "        await google.colab.output.renderOutput(dataTable, element);\n",
              "        const docLink = document.createElement('div');\n",
              "        docLink.innerHTML = docLinkHtml;\n",
              "        element.appendChild(docLink);\n",
              "      }\n",
              "    </script>\n",
              "  </div>\n",
              "\n",
              "\n",
              "<div id=\"df-90aa3b58-0d88-472b-bb34-9c50106ff0ce\">\n",
              "  <button class=\"colab-df-quickchart\" onclick=\"quickchart('df-90aa3b58-0d88-472b-bb34-9c50106ff0ce')\"\n",
              "            title=\"Suggest charts\"\n",
              "            style=\"display:none;\">\n",
              "\n",
              "<svg xmlns=\"http://www.w3.org/2000/svg\" height=\"24px\"viewBox=\"0 0 24 24\"\n",
              "     width=\"24px\">\n",
              "    <g>\n",
              "        <path d=\"M19 3H5c-1.1 0-2 .9-2 2v14c0 1.1.9 2 2 2h14c1.1 0 2-.9 2-2V5c0-1.1-.9-2-2-2zM9 17H7v-7h2v7zm4 0h-2V7h2v10zm4 0h-2v-4h2v4z\"/>\n",
              "    </g>\n",
              "</svg>\n",
              "  </button>\n",
              "\n",
              "<style>\n",
              "  .colab-df-quickchart {\n",
              "      --bg-color: #E8F0FE;\n",
              "      --fill-color: #1967D2;\n",
              "      --hover-bg-color: #E2EBFA;\n",
              "      --hover-fill-color: #174EA6;\n",
              "      --disabled-fill-color: #AAA;\n",
              "      --disabled-bg-color: #DDD;\n",
              "  }\n",
              "\n",
              "  [theme=dark] .colab-df-quickchart {\n",
              "      --bg-color: #3B4455;\n",
              "      --fill-color: #D2E3FC;\n",
              "      --hover-bg-color: #434B5C;\n",
              "      --hover-fill-color: #FFFFFF;\n",
              "      --disabled-bg-color: #3B4455;\n",
              "      --disabled-fill-color: #666;\n",
              "  }\n",
              "\n",
              "  .colab-df-quickchart {\n",
              "    background-color: var(--bg-color);\n",
              "    border: none;\n",
              "    border-radius: 50%;\n",
              "    cursor: pointer;\n",
              "    display: none;\n",
              "    fill: var(--fill-color);\n",
              "    height: 32px;\n",
              "    padding: 0;\n",
              "    width: 32px;\n",
              "  }\n",
              "\n",
              "  .colab-df-quickchart:hover {\n",
              "    background-color: var(--hover-bg-color);\n",
              "    box-shadow: 0 1px 2px rgba(60, 64, 67, 0.3), 0 1px 3px 1px rgba(60, 64, 67, 0.15);\n",
              "    fill: var(--button-hover-fill-color);\n",
              "  }\n",
              "\n",
              "  .colab-df-quickchart-complete:disabled,\n",
              "  .colab-df-quickchart-complete:disabled:hover {\n",
              "    background-color: var(--disabled-bg-color);\n",
              "    fill: var(--disabled-fill-color);\n",
              "    box-shadow: none;\n",
              "  }\n",
              "\n",
              "  .colab-df-spinner {\n",
              "    border: 2px solid var(--fill-color);\n",
              "    border-color: transparent;\n",
              "    border-bottom-color: var(--fill-color);\n",
              "    animation:\n",
              "      spin 1s steps(1) infinite;\n",
              "  }\n",
              "\n",
              "  @keyframes spin {\n",
              "    0% {\n",
              "      border-color: transparent;\n",
              "      border-bottom-color: var(--fill-color);\n",
              "      border-left-color: var(--fill-color);\n",
              "    }\n",
              "    20% {\n",
              "      border-color: transparent;\n",
              "      border-left-color: var(--fill-color);\n",
              "      border-top-color: var(--fill-color);\n",
              "    }\n",
              "    30% {\n",
              "      border-color: transparent;\n",
              "      border-left-color: var(--fill-color);\n",
              "      border-top-color: var(--fill-color);\n",
              "      border-right-color: var(--fill-color);\n",
              "    }\n",
              "    40% {\n",
              "      border-color: transparent;\n",
              "      border-right-color: var(--fill-color);\n",
              "      border-top-color: var(--fill-color);\n",
              "    }\n",
              "    60% {\n",
              "      border-color: transparent;\n",
              "      border-right-color: var(--fill-color);\n",
              "    }\n",
              "    80% {\n",
              "      border-color: transparent;\n",
              "      border-right-color: var(--fill-color);\n",
              "      border-bottom-color: var(--fill-color);\n",
              "    }\n",
              "    90% {\n",
              "      border-color: transparent;\n",
              "      border-bottom-color: var(--fill-color);\n",
              "    }\n",
              "  }\n",
              "</style>\n",
              "\n",
              "  <script>\n",
              "    async function quickchart(key) {\n",
              "      const quickchartButtonEl =\n",
              "        document.querySelector('#' + key + ' button');\n",
              "      quickchartButtonEl.disabled = true;  // To prevent multiple clicks.\n",
              "      quickchartButtonEl.classList.add('colab-df-spinner');\n",
              "      try {\n",
              "        const charts = await google.colab.kernel.invokeFunction(\n",
              "            'suggestCharts', [key], {});\n",
              "      } catch (error) {\n",
              "        console.error('Error during call to suggestCharts:', error);\n",
              "      }\n",
              "      quickchartButtonEl.classList.remove('colab-df-spinner');\n",
              "      quickchartButtonEl.classList.add('colab-df-quickchart-complete');\n",
              "    }\n",
              "    (() => {\n",
              "      let quickchartButtonEl =\n",
              "        document.querySelector('#df-90aa3b58-0d88-472b-bb34-9c50106ff0ce button');\n",
              "      quickchartButtonEl.style.display =\n",
              "        google.colab.kernel.accessAllowed ? 'block' : 'none';\n",
              "    })();\n",
              "  </script>\n",
              "</div>\n",
              "    </div>\n",
              "  </div>\n"
            ],
            "application/vnd.google.colaboratory.intrinsic+json": {
              "type": "dataframe",
              "summary": "{\n  \"name\": \"pd_data[[\\\"Amount\\\",TARGET]]\",\n  \"rows\": 8,\n  \"fields\": [\n    {\n      \"column\": \"Amount\",\n      \"properties\": {\n        \"dtype\": \"number\",\n        \"std\": 99778.01856206656,\n        \"min\": 0.0,\n        \"max\": 284807.0,\n        \"num_unique_values\": 8,\n        \"samples\": [\n          88.34961925093133,\n          22.0,\n          284807.0\n        ],\n        \"semantic_type\": \"\",\n        \"description\": \"\"\n      }\n    },\n    {\n      \"column\": \"Class\",\n      \"properties\": {\n        \"dtype\": \"number\",\n        \"std\": 100694.42782298056,\n        \"min\": 0.0,\n        \"max\": 284807.0,\n        \"num_unique_values\": 5,\n        \"samples\": [\n          0.001727485630620034,\n          1.0,\n          0.04152718963546506\n        ],\n        \"semantic_type\": \"\",\n        \"description\": \"\"\n      }\n    }\n  ]\n}"
            }
          },
          "metadata": {},
          "execution_count": 100
        }
      ],
      "source": [
        "TARGET = \"Class\"\n",
        "ones = pd_data[pd_data[\"Class\"] == 1][\"Class\"].count()\n",
        "ceros = pd_data[pd_data[\"Class\"] == 0][\"Class\"].count()\n",
        "print(\"Hay \", ones,\" unos y \",ceros,\" ceros. Por lo que el data set está imbalanceado\")\n",
        "\n",
        "pd_data[[\"Amount\",TARGET]].info()\n",
        "\n",
        "pd_data[TARGET].hist();\n",
        "\n",
        "plt.matshow(pd_data[[\"Amount\",TARGET]].corr())\n",
        "plt.show()\n",
        "\n",
        "\n",
        "pd_data[[\"Amount\",TARGET]].describe()"
      ]
    },
    {
      "cell_type": "markdown",
      "source": [
        "# Preprocesado\n",
        "\n",
        "Aplique una normalización para que las features estén en el intervalo 0 a 1. Además, divida el dataset en train y test."
      ],
      "metadata": {
        "id": "KuTCROq9voCq"
      },
      "id": "KuTCROq9voCq"
    },
    {
      "cell_type": "code",
      "execution_count": 101,
      "id": "b6b0b218-6984-45c4-95ef-117b08109859",
      "metadata": {
        "id": "b6b0b218-6984-45c4-95ef-117b08109859",
        "colab": {
          "base_uri": "https://localhost:8080/",
          "height": 342
        },
        "outputId": "2d22c048-1cf3-4a3d-def9-97cdf93203f8"
      },
      "outputs": [
        {
          "output_type": "stream",
          "name": "stdout",
          "text": [
            "(284807, 29)\n",
            "(227845, 29)\n",
            "(56962, 29)\n",
            "(227845,)\n",
            "(56962,)\n"
          ]
        },
        {
          "output_type": "execute_result",
          "data": {
            "text/plain": [
              "         V1        V2        V3        V4        V5        V6        V7  \\\n",
              "0 -1.359807 -0.072781  2.536347  1.378155 -0.338321  0.462388  0.239599   \n",
              "1  1.191857  0.266151  0.166480  0.448154  0.060018 -0.082361 -0.078803   \n",
              "2 -1.358354 -1.340163  1.773209  0.379780 -0.503198  1.800499  0.791461   \n",
              "3 -0.966272 -0.185226  1.792993 -0.863291 -0.010309  1.247203  0.237609   \n",
              "4 -1.158233  0.877737  1.548718  0.403034 -0.407193  0.095921  0.592941   \n",
              "\n",
              "         V8        V9       V10  ...       V20       V21       V22       V23  \\\n",
              "0  0.098698  0.363787  0.090794  ...  0.251412 -0.018307  0.277838 -0.110474   \n",
              "1  0.085102 -0.255425 -0.166974  ... -0.069083 -0.225775 -0.638672  0.101288   \n",
              "2  0.247676 -1.514654  0.207643  ...  0.524980  0.247998  0.771679  0.909412   \n",
              "3  0.377436 -1.387024 -0.054952  ... -0.208038 -0.108300  0.005274 -0.190321   \n",
              "4 -0.270533  0.817739  0.753074  ...  0.408542 -0.009431  0.798278 -0.137458   \n",
              "\n",
              "        V24       V25       V26       V27       V28  Amount  \n",
              "0  0.066928  0.128539 -0.189115  0.133558 -0.021053  149.62  \n",
              "1 -0.339846  0.167170  0.125895 -0.008983  0.014724    2.69  \n",
              "2 -0.689281 -0.327642 -0.139097 -0.055353 -0.059752  378.66  \n",
              "3 -1.175575  0.647376 -0.221929  0.062723  0.061458  123.50  \n",
              "4  0.141267 -0.206010  0.502292  0.219422  0.215153   69.99  \n",
              "\n",
              "[5 rows x 29 columns]"
            ],
            "text/html": [
              "\n",
              "  <div id=\"df-647a79f3-f293-4ce3-9f08-4b634574ecd2\" class=\"colab-df-container\">\n",
              "    <div>\n",
              "<style scoped>\n",
              "    .dataframe tbody tr th:only-of-type {\n",
              "        vertical-align: middle;\n",
              "    }\n",
              "\n",
              "    .dataframe tbody tr th {\n",
              "        vertical-align: top;\n",
              "    }\n",
              "\n",
              "    .dataframe thead th {\n",
              "        text-align: right;\n",
              "    }\n",
              "</style>\n",
              "<table border=\"1\" class=\"dataframe\">\n",
              "  <thead>\n",
              "    <tr style=\"text-align: right;\">\n",
              "      <th></th>\n",
              "      <th>V1</th>\n",
              "      <th>V2</th>\n",
              "      <th>V3</th>\n",
              "      <th>V4</th>\n",
              "      <th>V5</th>\n",
              "      <th>V6</th>\n",
              "      <th>V7</th>\n",
              "      <th>V8</th>\n",
              "      <th>V9</th>\n",
              "      <th>V10</th>\n",
              "      <th>...</th>\n",
              "      <th>V20</th>\n",
              "      <th>V21</th>\n",
              "      <th>V22</th>\n",
              "      <th>V23</th>\n",
              "      <th>V24</th>\n",
              "      <th>V25</th>\n",
              "      <th>V26</th>\n",
              "      <th>V27</th>\n",
              "      <th>V28</th>\n",
              "      <th>Amount</th>\n",
              "    </tr>\n",
              "  </thead>\n",
              "  <tbody>\n",
              "    <tr>\n",
              "      <th>0</th>\n",
              "      <td>-1.359807</td>\n",
              "      <td>-0.072781</td>\n",
              "      <td>2.536347</td>\n",
              "      <td>1.378155</td>\n",
              "      <td>-0.338321</td>\n",
              "      <td>0.462388</td>\n",
              "      <td>0.239599</td>\n",
              "      <td>0.098698</td>\n",
              "      <td>0.363787</td>\n",
              "      <td>0.090794</td>\n",
              "      <td>...</td>\n",
              "      <td>0.251412</td>\n",
              "      <td>-0.018307</td>\n",
              "      <td>0.277838</td>\n",
              "      <td>-0.110474</td>\n",
              "      <td>0.066928</td>\n",
              "      <td>0.128539</td>\n",
              "      <td>-0.189115</td>\n",
              "      <td>0.133558</td>\n",
              "      <td>-0.021053</td>\n",
              "      <td>149.62</td>\n",
              "    </tr>\n",
              "    <tr>\n",
              "      <th>1</th>\n",
              "      <td>1.191857</td>\n",
              "      <td>0.266151</td>\n",
              "      <td>0.166480</td>\n",
              "      <td>0.448154</td>\n",
              "      <td>0.060018</td>\n",
              "      <td>-0.082361</td>\n",
              "      <td>-0.078803</td>\n",
              "      <td>0.085102</td>\n",
              "      <td>-0.255425</td>\n",
              "      <td>-0.166974</td>\n",
              "      <td>...</td>\n",
              "      <td>-0.069083</td>\n",
              "      <td>-0.225775</td>\n",
              "      <td>-0.638672</td>\n",
              "      <td>0.101288</td>\n",
              "      <td>-0.339846</td>\n",
              "      <td>0.167170</td>\n",
              "      <td>0.125895</td>\n",
              "      <td>-0.008983</td>\n",
              "      <td>0.014724</td>\n",
              "      <td>2.69</td>\n",
              "    </tr>\n",
              "    <tr>\n",
              "      <th>2</th>\n",
              "      <td>-1.358354</td>\n",
              "      <td>-1.340163</td>\n",
              "      <td>1.773209</td>\n",
              "      <td>0.379780</td>\n",
              "      <td>-0.503198</td>\n",
              "      <td>1.800499</td>\n",
              "      <td>0.791461</td>\n",
              "      <td>0.247676</td>\n",
              "      <td>-1.514654</td>\n",
              "      <td>0.207643</td>\n",
              "      <td>...</td>\n",
              "      <td>0.524980</td>\n",
              "      <td>0.247998</td>\n",
              "      <td>0.771679</td>\n",
              "      <td>0.909412</td>\n",
              "      <td>-0.689281</td>\n",
              "      <td>-0.327642</td>\n",
              "      <td>-0.139097</td>\n",
              "      <td>-0.055353</td>\n",
              "      <td>-0.059752</td>\n",
              "      <td>378.66</td>\n",
              "    </tr>\n",
              "    <tr>\n",
              "      <th>3</th>\n",
              "      <td>-0.966272</td>\n",
              "      <td>-0.185226</td>\n",
              "      <td>1.792993</td>\n",
              "      <td>-0.863291</td>\n",
              "      <td>-0.010309</td>\n",
              "      <td>1.247203</td>\n",
              "      <td>0.237609</td>\n",
              "      <td>0.377436</td>\n",
              "      <td>-1.387024</td>\n",
              "      <td>-0.054952</td>\n",
              "      <td>...</td>\n",
              "      <td>-0.208038</td>\n",
              "      <td>-0.108300</td>\n",
              "      <td>0.005274</td>\n",
              "      <td>-0.190321</td>\n",
              "      <td>-1.175575</td>\n",
              "      <td>0.647376</td>\n",
              "      <td>-0.221929</td>\n",
              "      <td>0.062723</td>\n",
              "      <td>0.061458</td>\n",
              "      <td>123.50</td>\n",
              "    </tr>\n",
              "    <tr>\n",
              "      <th>4</th>\n",
              "      <td>-1.158233</td>\n",
              "      <td>0.877737</td>\n",
              "      <td>1.548718</td>\n",
              "      <td>0.403034</td>\n",
              "      <td>-0.407193</td>\n",
              "      <td>0.095921</td>\n",
              "      <td>0.592941</td>\n",
              "      <td>-0.270533</td>\n",
              "      <td>0.817739</td>\n",
              "      <td>0.753074</td>\n",
              "      <td>...</td>\n",
              "      <td>0.408542</td>\n",
              "      <td>-0.009431</td>\n",
              "      <td>0.798278</td>\n",
              "      <td>-0.137458</td>\n",
              "      <td>0.141267</td>\n",
              "      <td>-0.206010</td>\n",
              "      <td>0.502292</td>\n",
              "      <td>0.219422</td>\n",
              "      <td>0.215153</td>\n",
              "      <td>69.99</td>\n",
              "    </tr>\n",
              "  </tbody>\n",
              "</table>\n",
              "<p>5 rows × 29 columns</p>\n",
              "</div>\n",
              "    <div class=\"colab-df-buttons\">\n",
              "\n",
              "  <div class=\"colab-df-container\">\n",
              "    <button class=\"colab-df-convert\" onclick=\"convertToInteractive('df-647a79f3-f293-4ce3-9f08-4b634574ecd2')\"\n",
              "            title=\"Convert this dataframe to an interactive table.\"\n",
              "            style=\"display:none;\">\n",
              "\n",
              "  <svg xmlns=\"http://www.w3.org/2000/svg\" height=\"24px\" viewBox=\"0 -960 960 960\">\n",
              "    <path d=\"M120-120v-720h720v720H120Zm60-500h600v-160H180v160Zm220 220h160v-160H400v160Zm0 220h160v-160H400v160ZM180-400h160v-160H180v160Zm440 0h160v-160H620v160ZM180-180h160v-160H180v160Zm440 0h160v-160H620v160Z\"/>\n",
              "  </svg>\n",
              "    </button>\n",
              "\n",
              "  <style>\n",
              "    .colab-df-container {\n",
              "      display:flex;\n",
              "      gap: 12px;\n",
              "    }\n",
              "\n",
              "    .colab-df-convert {\n",
              "      background-color: #E8F0FE;\n",
              "      border: none;\n",
              "      border-radius: 50%;\n",
              "      cursor: pointer;\n",
              "      display: none;\n",
              "      fill: #1967D2;\n",
              "      height: 32px;\n",
              "      padding: 0 0 0 0;\n",
              "      width: 32px;\n",
              "    }\n",
              "\n",
              "    .colab-df-convert:hover {\n",
              "      background-color: #E2EBFA;\n",
              "      box-shadow: 0px 1px 2px rgba(60, 64, 67, 0.3), 0px 1px 3px 1px rgba(60, 64, 67, 0.15);\n",
              "      fill: #174EA6;\n",
              "    }\n",
              "\n",
              "    .colab-df-buttons div {\n",
              "      margin-bottom: 4px;\n",
              "    }\n",
              "\n",
              "    [theme=dark] .colab-df-convert {\n",
              "      background-color: #3B4455;\n",
              "      fill: #D2E3FC;\n",
              "    }\n",
              "\n",
              "    [theme=dark] .colab-df-convert:hover {\n",
              "      background-color: #434B5C;\n",
              "      box-shadow: 0px 1px 3px 1px rgba(0, 0, 0, 0.15);\n",
              "      filter: drop-shadow(0px 1px 2px rgba(0, 0, 0, 0.3));\n",
              "      fill: #FFFFFF;\n",
              "    }\n",
              "  </style>\n",
              "\n",
              "    <script>\n",
              "      const buttonEl =\n",
              "        document.querySelector('#df-647a79f3-f293-4ce3-9f08-4b634574ecd2 button.colab-df-convert');\n",
              "      buttonEl.style.display =\n",
              "        google.colab.kernel.accessAllowed ? 'block' : 'none';\n",
              "\n",
              "      async function convertToInteractive(key) {\n",
              "        const element = document.querySelector('#df-647a79f3-f293-4ce3-9f08-4b634574ecd2');\n",
              "        const dataTable =\n",
              "          await google.colab.kernel.invokeFunction('convertToInteractive',\n",
              "                                                    [key], {});\n",
              "        if (!dataTable) return;\n",
              "\n",
              "        const docLinkHtml = 'Like what you see? Visit the ' +\n",
              "          '<a target=\"_blank\" href=https://colab.research.google.com/notebooks/data_table.ipynb>data table notebook</a>'\n",
              "          + ' to learn more about interactive tables.';\n",
              "        element.innerHTML = '';\n",
              "        dataTable['output_type'] = 'display_data';\n",
              "        await google.colab.output.renderOutput(dataTable, element);\n",
              "        const docLink = document.createElement('div');\n",
              "        docLink.innerHTML = docLinkHtml;\n",
              "        element.appendChild(docLink);\n",
              "      }\n",
              "    </script>\n",
              "  </div>\n",
              "\n",
              "\n",
              "<div id=\"df-60dbea55-b9d4-42be-8d51-43b1b0985804\">\n",
              "  <button class=\"colab-df-quickchart\" onclick=\"quickchart('df-60dbea55-b9d4-42be-8d51-43b1b0985804')\"\n",
              "            title=\"Suggest charts\"\n",
              "            style=\"display:none;\">\n",
              "\n",
              "<svg xmlns=\"http://www.w3.org/2000/svg\" height=\"24px\"viewBox=\"0 0 24 24\"\n",
              "     width=\"24px\">\n",
              "    <g>\n",
              "        <path d=\"M19 3H5c-1.1 0-2 .9-2 2v14c0 1.1.9 2 2 2h14c1.1 0 2-.9 2-2V5c0-1.1-.9-2-2-2zM9 17H7v-7h2v7zm4 0h-2V7h2v10zm4 0h-2v-4h2v4z\"/>\n",
              "    </g>\n",
              "</svg>\n",
              "  </button>\n",
              "\n",
              "<style>\n",
              "  .colab-df-quickchart {\n",
              "      --bg-color: #E8F0FE;\n",
              "      --fill-color: #1967D2;\n",
              "      --hover-bg-color: #E2EBFA;\n",
              "      --hover-fill-color: #174EA6;\n",
              "      --disabled-fill-color: #AAA;\n",
              "      --disabled-bg-color: #DDD;\n",
              "  }\n",
              "\n",
              "  [theme=dark] .colab-df-quickchart {\n",
              "      --bg-color: #3B4455;\n",
              "      --fill-color: #D2E3FC;\n",
              "      --hover-bg-color: #434B5C;\n",
              "      --hover-fill-color: #FFFFFF;\n",
              "      --disabled-bg-color: #3B4455;\n",
              "      --disabled-fill-color: #666;\n",
              "  }\n",
              "\n",
              "  .colab-df-quickchart {\n",
              "    background-color: var(--bg-color);\n",
              "    border: none;\n",
              "    border-radius: 50%;\n",
              "    cursor: pointer;\n",
              "    display: none;\n",
              "    fill: var(--fill-color);\n",
              "    height: 32px;\n",
              "    padding: 0;\n",
              "    width: 32px;\n",
              "  }\n",
              "\n",
              "  .colab-df-quickchart:hover {\n",
              "    background-color: var(--hover-bg-color);\n",
              "    box-shadow: 0 1px 2px rgba(60, 64, 67, 0.3), 0 1px 3px 1px rgba(60, 64, 67, 0.15);\n",
              "    fill: var(--button-hover-fill-color);\n",
              "  }\n",
              "\n",
              "  .colab-df-quickchart-complete:disabled,\n",
              "  .colab-df-quickchart-complete:disabled:hover {\n",
              "    background-color: var(--disabled-bg-color);\n",
              "    fill: var(--disabled-fill-color);\n",
              "    box-shadow: none;\n",
              "  }\n",
              "\n",
              "  .colab-df-spinner {\n",
              "    border: 2px solid var(--fill-color);\n",
              "    border-color: transparent;\n",
              "    border-bottom-color: var(--fill-color);\n",
              "    animation:\n",
              "      spin 1s steps(1) infinite;\n",
              "  }\n",
              "\n",
              "  @keyframes spin {\n",
              "    0% {\n",
              "      border-color: transparent;\n",
              "      border-bottom-color: var(--fill-color);\n",
              "      border-left-color: var(--fill-color);\n",
              "    }\n",
              "    20% {\n",
              "      border-color: transparent;\n",
              "      border-left-color: var(--fill-color);\n",
              "      border-top-color: var(--fill-color);\n",
              "    }\n",
              "    30% {\n",
              "      border-color: transparent;\n",
              "      border-left-color: var(--fill-color);\n",
              "      border-top-color: var(--fill-color);\n",
              "      border-right-color: var(--fill-color);\n",
              "    }\n",
              "    40% {\n",
              "      border-color: transparent;\n",
              "      border-right-color: var(--fill-color);\n",
              "      border-top-color: var(--fill-color);\n",
              "    }\n",
              "    60% {\n",
              "      border-color: transparent;\n",
              "      border-right-color: var(--fill-color);\n",
              "    }\n",
              "    80% {\n",
              "      border-color: transparent;\n",
              "      border-right-color: var(--fill-color);\n",
              "      border-bottom-color: var(--fill-color);\n",
              "    }\n",
              "    90% {\n",
              "      border-color: transparent;\n",
              "      border-bottom-color: var(--fill-color);\n",
              "    }\n",
              "  }\n",
              "</style>\n",
              "\n",
              "  <script>\n",
              "    async function quickchart(key) {\n",
              "      const quickchartButtonEl =\n",
              "        document.querySelector('#' + key + ' button');\n",
              "      quickchartButtonEl.disabled = true;  // To prevent multiple clicks.\n",
              "      quickchartButtonEl.classList.add('colab-df-spinner');\n",
              "      try {\n",
              "        const charts = await google.colab.kernel.invokeFunction(\n",
              "            'suggestCharts', [key], {});\n",
              "      } catch (error) {\n",
              "        console.error('Error during call to suggestCharts:', error);\n",
              "      }\n",
              "      quickchartButtonEl.classList.remove('colab-df-spinner');\n",
              "      quickchartButtonEl.classList.add('colab-df-quickchart-complete');\n",
              "    }\n",
              "    (() => {\n",
              "      let quickchartButtonEl =\n",
              "        document.querySelector('#df-60dbea55-b9d4-42be-8d51-43b1b0985804 button');\n",
              "      quickchartButtonEl.style.display =\n",
              "        google.colab.kernel.accessAllowed ? 'block' : 'none';\n",
              "    })();\n",
              "  </script>\n",
              "</div>\n",
              "    </div>\n",
              "  </div>\n"
            ],
            "application/vnd.google.colaboratory.intrinsic+json": {
              "type": "dataframe",
              "variable_name": "data"
            }
          },
          "metadata": {},
          "execution_count": 101
        }
      ],
      "source": [
        "# In the data we have 27 unknown variables and an Amount Variable, which is the amount of the transaction\n",
        "data = pd_data.iloc[:, :-1]\n",
        "\n",
        "# The last element contains the labels -> Whether it is a fraudulent or non fraudulent transaction\n",
        "labels = pd_data.iloc[:,-1]\n",
        "\n",
        "train_data, test_data, train_labels, test_labels = train_test_split(\n",
        "    data, labels, test_size=0.2, random_state=0\n",
        ")\n",
        "\n",
        "original_train_labels = train_labels\n",
        "\n",
        "original_test_labels = test_labels\n",
        "\n",
        "print(data.shape)\n",
        "print(train_data.shape)\n",
        "print(test_data.shape)\n",
        "print(train_labels.shape)\n",
        "print(test_labels.shape)\n",
        "\n",
        "\n",
        "data.head()"
      ]
    },
    {
      "cell_type": "code",
      "execution_count": 102,
      "id": "b29ab363-a23f-48d9-b909-a5cf503667ca",
      "metadata": {
        "id": "b29ab363-a23f-48d9-b909-a5cf503667ca",
        "colab": {
          "base_uri": "https://localhost:8080/"
        },
        "outputId": "2302e31f-95e9-4164-83d1-6d7f8d2011ce"
      },
      "outputs": [
        {
          "output_type": "stream",
          "name": "stdout",
          "text": [
            "(284807, 29)\n",
            "(227845, 29)\n",
            "(56962, 29)\n"
          ]
        }
      ],
      "source": [
        "# Normalize the data\n",
        "\n",
        "# Normalize each column based on its own scale\n",
        "data_train_normalized = pd.DataFrame()\n",
        "data_test_normalized = pd.DataFrame()\n",
        "\n",
        "for column in data.columns:\n",
        "    max_value = train_data[column].max()\n",
        "    min_value = train_data[column].min()\n",
        "    data_train_normalized[column] = (train_data[column] - min_value) / (max_value - min_value)\n",
        "    data_test_normalized[column] = (test_data[column] - min_value) / (max_value - min_value)\n",
        "\n",
        "print(data.shape)\n",
        "print(data_train_normalized.shape)\n",
        "print(data_test_normalized.shape)\n"
      ]
    },
    {
      "cell_type": "code",
      "execution_count": 103,
      "id": "dd6badc7-4c48-49a4-9210-188b9edcd50e",
      "metadata": {
        "id": "dd6badc7-4c48-49a4-9210-188b9edcd50e",
        "colab": {
          "base_uri": "https://localhost:8080/"
        },
        "outputId": "36cae44b-b1b6-45a6-c281-1ec7655b13ef"
      },
      "outputs": [
        {
          "output_type": "stream",
          "name": "stdout",
          "text": [
            "(227454, 29)\n",
            "(56861, 29)\n",
            "(391, 29)\n",
            "(101, 29)\n"
          ]
        }
      ],
      "source": [
        "## CUAL ES EL OBJETIVO DE ESTO?\n",
        "\n",
        "\n",
        "train_labels = ~train_labels.astype(bool)\n",
        "test_labels = ~test_labels.astype(bool)\n",
        "\n",
        "\n",
        "normal_train_data = data_train_normalized[train_labels]\n",
        "print(normal_train_data.shape)\n",
        "\n",
        "normal_test_data = data_test_normalized[test_labels]\n",
        "print(normal_test_data.shape)\n",
        "\n",
        "\n",
        "anomalous_train_data = train_data[~train_labels]\n",
        "print(anomalous_train_data.shape)\n",
        "\n",
        "anomalous_test_data = test_data[~test_labels]\n",
        "print(anomalous_test_data.shape)\n"
      ]
    },
    {
      "cell_type": "markdown",
      "id": "22c08856-74de-47ec-9b94-7ecb6ea23d9b",
      "metadata": {
        "id": "22c08856-74de-47ec-9b94-7ecb6ea23d9b"
      },
      "source": [
        "# Auto encoder\n",
        "\n",
        "Se requiere construir un mecanismo para la detección de anomalías con un autoencoder. Vamos a considerar que los pagos fraudulentos son poco comunes y tienen algunas características especiales que no tienen el resto de pagos."
      ]
    },
    {
      "cell_type": "markdown",
      "id": "ee3dfdb9-0484-4898-956c-0c995a21a6f6",
      "metadata": {
        "id": "ee3dfdb9-0484-4898-956c-0c995a21a6f6"
      },
      "source": [
        "## Creación del modelo\n",
        "\n",
        "Cree un autoencoder con encoder y decoder simétricos. Dos capas en cada uno serán suficientes, y tome como dimensión del Latent un valor entre 4 y 10.\n",
        "\n",
        "Atención a la función de activación de la última capa del decoder!!!"
      ]
    },
    {
      "cell_type": "code",
      "execution_count": 104,
      "id": "e9c44f5f-c172-464f-8858-b0a748de1518",
      "metadata": {
        "id": "e9c44f5f-c172-464f-8858-b0a748de1518",
        "colab": {
          "base_uri": "https://localhost:8080/"
        },
        "outputId": "927743db-a9df-4910-db35-7ccd9114293d"
      },
      "outputs": [
        {
          "output_type": "stream",
          "name": "stdout",
          "text": [
            "Model: \"model_5\"\n",
            "_________________________________________________________________\n",
            " Layer (type)                Output Shape              Param #   \n",
            "=================================================================\n",
            " input_6 (InputLayer)        [(None, 29)]              0         \n",
            "                                                                 \n",
            " dense_20 (Dense)            (None, 16)                480       \n",
            "                                                                 \n",
            " dense_21 (Dense)            (None, 8)                 136       \n",
            "                                                                 \n",
            " dense_22 (Dense)            (None, 16)                144       \n",
            "                                                                 \n",
            " dense_23 (Dense)            (None, 29)                493       \n",
            "                                                                 \n",
            "=================================================================\n",
            "Total params: 1253 (4.89 KB)\n",
            "Trainable params: 1253 (4.89 KB)\n",
            "Non-trainable params: 0 (0.00 Byte)\n",
            "_________________________________________________________________\n"
          ]
        }
      ],
      "source": [
        "input_tensor = Input(shape=(29,))\n",
        "encoded = layers.Dense(16, activation='relu')(input_tensor)\n",
        "encoded = layers.Dense(8, activation='relu')(encoded)\n",
        "\n",
        "decoded = layers.Dense(16, activation='relu')(encoded)\n",
        "decoded = layers.Dense(29, activation='sigmoid')(decoded)\n",
        "\n",
        "\n",
        "autoencoder = Model(input_tensor, decoded)\n",
        "autoencoder.compile(optimizer='adam', loss='mae')\n",
        "\n",
        "autoencoder.summary()\n"
      ]
    },
    {
      "cell_type": "code",
      "source": [
        "\n"
      ],
      "metadata": {
        "id": "ycKGoOviGJS4"
      },
      "id": "ycKGoOviGJS4",
      "execution_count": 104,
      "outputs": []
    },
    {
      "cell_type": "markdown",
      "source": [],
      "metadata": {
        "id": "yei8sgX9K6Vu"
      },
      "id": "yei8sgX9K6Vu"
    },
    {
      "cell_type": "code",
      "execution_count": 104,
      "id": "38f4b323-b8e2-47ee-91a4-3d8de0d4f9be",
      "metadata": {
        "id": "38f4b323-b8e2-47ee-91a4-3d8de0d4f9be"
      },
      "outputs": [],
      "source": []
    },
    {
      "cell_type": "code",
      "source": [],
      "metadata": {
        "id": "JByfSMUuFeJs"
      },
      "id": "JByfSMUuFeJs",
      "execution_count": 104,
      "outputs": []
    },
    {
      "cell_type": "markdown",
      "id": "04875170-50a1-46f9-94a9-b643d1b4205a",
      "metadata": {
        "id": "04875170-50a1-46f9-94a9-b643d1b4205a"
      },
      "source": [
        "## Entrenamiento\n",
        "\n",
        "Entrene el modelo hasta alcanzar la convergencia necesaria para la detección de anomalías."
      ]
    },
    {
      "cell_type": "code",
      "execution_count": 105,
      "id": "78f66885-f324-4d20-a679-f258f5a7ac88",
      "metadata": {
        "id": "78f66885-f324-4d20-a679-f258f5a7ac88",
        "colab": {
          "base_uri": "https://localhost:8080/"
        },
        "outputId": "3be23126-464c-4673-c38e-4a19f4fe55e6"
      },
      "outputs": [
        {
          "output_type": "stream",
          "name": "stdout",
          "text": [
            "Epoch 1/20\n",
            "56/56 [==============================] - 2s 13ms/step - loss: 0.1396 - val_loss: 0.1146\n",
            "Epoch 2/20\n",
            "56/56 [==============================] - 0s 9ms/step - loss: 0.0812 - val_loss: 0.0461\n",
            "Epoch 3/20\n",
            "56/56 [==============================] - 1s 9ms/step - loss: 0.0346 - val_loss: 0.0299\n",
            "Epoch 4/20\n",
            "56/56 [==============================] - 1s 9ms/step - loss: 0.0290 - val_loss: 0.0283\n",
            "Epoch 5/20\n",
            "56/56 [==============================] - 1s 9ms/step - loss: 0.0280 - val_loss: 0.0277\n",
            "Epoch 6/20\n",
            "56/56 [==============================] - 1s 15ms/step - loss: 0.0276 - val_loss: 0.0274\n",
            "Epoch 7/20\n",
            "56/56 [==============================] - 1s 15ms/step - loss: 0.0273 - val_loss: 0.0271\n",
            "Epoch 8/20\n",
            "56/56 [==============================] - 1s 17ms/step - loss: 0.0270 - val_loss: 0.0268\n",
            "Epoch 9/20\n",
            "56/56 [==============================] - 1s 15ms/step - loss: 0.0267 - val_loss: 0.0263\n",
            "Epoch 10/20\n",
            "56/56 [==============================] - 1s 17ms/step - loss: 0.0261 - val_loss: 0.0257\n",
            "Epoch 11/20\n",
            "56/56 [==============================] - 0s 9ms/step - loss: 0.0257 - val_loss: 0.0255\n",
            "Epoch 12/20\n",
            "56/56 [==============================] - 1s 9ms/step - loss: 0.0255 - val_loss: 0.0253\n",
            "Epoch 13/20\n",
            "56/56 [==============================] - 1s 9ms/step - loss: 0.0253 - val_loss: 0.0252\n",
            "Epoch 14/20\n",
            "56/56 [==============================] - 1s 9ms/step - loss: 0.0252 - val_loss: 0.0251\n",
            "Epoch 15/20\n",
            "56/56 [==============================] - 0s 8ms/step - loss: 0.0251 - val_loss: 0.0250\n",
            "Epoch 16/20\n",
            "56/56 [==============================] - 0s 9ms/step - loss: 0.0250 - val_loss: 0.0249\n",
            "Epoch 17/20\n",
            "56/56 [==============================] - 0s 9ms/step - loss: 0.0250 - val_loss: 0.0249\n",
            "Epoch 18/20\n",
            "56/56 [==============================] - 0s 9ms/step - loss: 0.0249 - val_loss: 0.0248\n",
            "Epoch 19/20\n",
            "56/56 [==============================] - 1s 9ms/step - loss: 0.0249 - val_loss: 0.0248\n",
            "Epoch 20/20\n",
            "56/56 [==============================] - 1s 9ms/step - loss: 0.0248 - val_loss: 0.0248\n"
          ]
        }
      ],
      "source": [
        "history = autoencoder.fit(normal_train_data, normal_train_data,\n",
        "          epochs=20,\n",
        "          batch_size=1024*4, # Batch alto te quita overfitting - nos intersan muchos datos para que caigan batchs con anomalías en el test?\n",
        "          validation_data=(normal_test_data, normal_test_data),\n",
        "          shuffle=True)\n"
      ]
    },
    {
      "cell_type": "markdown",
      "id": "68d53295-266d-4bec-abd6-f20f8a3b288c",
      "metadata": {
        "id": "68d53295-266d-4bec-abd6-f20f8a3b288c"
      },
      "source": [
        "## Análisis de error de reconstrucción\n",
        "Calcule el error cuadrático medio entre cada una de las muestras del dataset de train y la reconstrucción pasando por el autoencoder. Dibuje el histograma del error en los pagos fraudulentos y en los normales por separado, y en una misma gráfica. Comente los resultados."
      ]
    },
    {
      "cell_type": "code",
      "execution_count": 106,
      "id": "53c3573d-5fff-4abb-91f1-68bb990afbca",
      "metadata": {
        "id": "53c3573d-5fff-4abb-91f1-68bb990afbca",
        "colab": {
          "base_uri": "https://localhost:8080/",
          "height": 447
        },
        "outputId": "000746e8-aaad-402c-8e28-fe95f80d137b"
      },
      "outputs": [
        {
          "output_type": "execute_result",
          "data": {
            "text/plain": [
              "<matplotlib.legend.Legend at 0x7b8da4119330>"
            ]
          },
          "metadata": {},
          "execution_count": 106
        },
        {
          "output_type": "display_data",
          "data": {
            "text/plain": [
              "<Figure size 640x480 with 1 Axes>"
            ],
            "image/png": "[encoded data removed]"
          },
          "metadata": {}
        }
      ],
      "source": [
        "plt.plot(history.history[\"loss\"], label=\"Training Loss\")\n",
        "plt.plot(history.history[\"val_loss\"], label=\"Validation Loss\")\n",
        "plt.legend()\n"
      ]
    },
    {
      "cell_type": "code",
      "execution_count": 107,
      "id": "6a7bbff1-2286-4e8a-b864-dcb2f244051c",
      "metadata": {
        "id": "6a7bbff1-2286-4e8a-b864-dcb2f244051c",
        "colab": {
          "base_uri": "https://localhost:8080/",
          "height": 466
        },
        "outputId": "6040afcd-2ed8-432e-b6aa-53a06f579e9e"
      },
      "outputs": [
        {
          "output_type": "stream",
          "name": "stdout",
          "text": [
            "7108/7108 [==============================] - 12s 2ms/step\n"
          ]
        },
        {
          "output_type": "display_data",
          "data": {
            "text/plain": [
              "<Figure size 640x480 with 1 Axes>"
            ],
            "image/png": "[encoded data removed]"
          },
          "metadata": {}
        }
      ],
      "source": [
        "# decoded_payments\n",
        "\n",
        "\n",
        "# Ploteamos los errores de los datos normales\n",
        "reconstructions = autoencoder.predict(normal_train_data)\n",
        "train_loss = tf.keras.losses.mae(reconstructions, normal_train_data)\n",
        "\n",
        "plt.hist(train_loss[None,:], bins=50)\n",
        "plt.xlabel(\"Train loss\")\n",
        "plt.ylabel(\"No of examples\")\n",
        "plt.show()"
      ]
    },
    {
      "cell_type": "markdown",
      "source": [
        "Se puede observar que la mayor parte de los errores están por debajo del 0,1. Con el centro en 0,02. Esto determina que el error es suficientemente bajo, con un 2% de error en comparación con escala de las variables."
      ],
      "metadata": {
        "id": "kE0DYcEMj2F-"
      },
      "id": "kE0DYcEMj2F-"
    },
    {
      "cell_type": "code",
      "execution_count": 108,
      "id": "bd6d4591-f760-4fdb-8185-47916615d6f4",
      "metadata": {
        "id": "bd6d4591-f760-4fdb-8185-47916615d6f4",
        "colab": {
          "base_uri": "https://localhost:8080/",
          "height": 466
        },
        "outputId": "e1f467b0-e968-4652-dd7f-b342ef91e8b3"
      },
      "outputs": [
        {
          "output_type": "stream",
          "name": "stdout",
          "text": [
            "4/4 [==============================] - 0s 4ms/step\n"
          ]
        },
        {
          "output_type": "display_data",
          "data": {
            "text/plain": [
              "<Figure size 640x480 with 1 Axes>"
            ],
            "image/png": "[encoded data removed]"
          },
          "metadata": {}
        }
      ],
      "source": [
        "# Ploteamos los errores de los datos anómalos para comprobar que efectivamente son mayores como regla general.\n",
        "\n",
        "reconstructions = autoencoder.predict(anomalous_test_data)\n",
        "test_loss = tf.keras.losses.mae(reconstructions, anomalous_test_data)\n",
        "\n",
        "plt.hist(test_loss[None, :], bins=50)\n",
        "plt.xlabel(\"Test loss\")\n",
        "plt.ylabel(\"No of examples\")\n",
        "plt.show()\n",
        "\n"
      ]
    },
    {
      "cell_type": "markdown",
      "source": [
        "## Elección del threshold\n",
        "Vamos a tratar de elegir un buen valor de threshold del error para decidir si es un pago fradulento o no lo es. Para ello, tome unos 100 valores en el rango que toma el threshold y calcule sobre el dataset de train la precisión, el recall, el false positive rate y el true positive rate. Pinte cada uno de ellos en una gráfica (el eje x es el posible valor del threshold)."
      ],
      "metadata": {
        "id": "IUVXYBZOwMfe"
      },
      "id": "IUVXYBZOwMfe"
    },
    {
      "cell_type": "code",
      "execution_count": 109,
      "id": "0f95789d-e9a7-4671-8e4b-f63e05bce310",
      "metadata": {
        "id": "0f95789d-e9a7-4671-8e4b-f63e05bce310"
      },
      "outputs": [],
      "source": [
        "def false_positive_rate(y, y_pred):\n",
        "    \"\"\"y is 0, y_pred is 1\"\"\"\n",
        "    return sum( (1- y) * y_pred) / sum(1-y)\n",
        "def true_positive_rate(y, y_pred):\n",
        "    \"\"\"both are one\"\"\"\n",
        "    return sum(y * y_pred) / sum(y)"
      ]
    },
    {
      "cell_type": "code",
      "execution_count": 110,
      "id": "cf56a21c-fc42-4ab2-a56e-318d6c964a53",
      "metadata": {
        "id": "cf56a21c-fc42-4ab2-a56e-318d6c964a53",
        "colab": {
          "base_uri": "https://localhost:8080/"
        },
        "outputId": "00289b96-8d5d-4019-d9ba-31098e93f5f7"
      },
      "outputs": [
        {
          "output_type": "stream",
          "name": "stdout",
          "text": [
            "Threshold:  0.033486027312352395\n",
            "7121/7121 [==============================] - 12s 2ms/step\n",
            "Accuracy = 0.8875814698588953\n",
            "Recall = 0.9002557544757033\n",
            "False positive rate = 0.1124403176026801\n",
            "True Positive rate = 0.9002557544757033\n"
          ]
        }
      ],
      "source": [
        "# Para el threshold se suele coger el MAE (Mean absolute error - habrá que coger 100 valores cerca de ese rango y probar cuál tienen mejor resultado)\n",
        "# Voy a hacer todas las funciones para un threshold y luego lo aplicamos a todo el rango.\n",
        "\n",
        "def compute_metrics(labels, pred):\n",
        "  print(\"Accuracy = {}\".format(accuracy_score(labels, pred)))\n",
        "  print(\"Recall = {}\".format(recall_score(labels, pred)))\n",
        "  print(\"False positive rate = {}\".format(false_positive_rate(labels, pred)))\n",
        "  print(\"True Positive rate = {}\".format(true_positive_rate(labels, pred)))\n",
        "\n",
        "\n",
        "# Choose a threshold value that is one standard deviations above the mean.\n",
        "threshold = np.mean(train_loss) + np.std(train_loss)\n",
        "print(\"Threshold: \", threshold)\n",
        "\n",
        "\n",
        "reconstructions = autoencoder.predict(data_train_normalized)\n",
        "test_loss = tf.keras.losses.mae(reconstructions, data_train_normalized)\n",
        "\n",
        "pred = np.where(test_loss > threshold, 1, 0) # Para que vaya más rápido\n",
        "# pred = [0 if l <= threshold else 1 for l in test_loss]\n",
        "\n",
        "compute_metrics(original_train_labels, pred)"
      ]
    },
    {
      "cell_type": "code",
      "execution_count": 111,
      "id": "fe796961-3589-4c6e-a59e-be6a5b74bc7e",
      "metadata": {
        "id": "fe796961-3589-4c6e-a59e-be6a5b74bc7e",
        "colab": {
          "base_uri": "https://localhost:8080/"
        },
        "outputId": "16392b80-6204-4761-b222-0c455fe6b7be"
      },
      "outputs": [
        {
          "output_type": "execute_result",
          "data": {
            "text/plain": [
              "array([0.02482799, 0.02745164, 0.03007529, 0.03269893, 0.03532258,\n",
              "       0.03794623, 0.04056988, 0.04319352, 0.04581717, 0.04844082,\n",
              "       0.05106447, 0.05368812, 0.05631176, 0.05893541, 0.06155906,\n",
              "       0.06418271, 0.06680636, 0.06943   , 0.07205365, 0.0746773 ,\n",
              "       0.07730095, 0.07992459, 0.08254824, 0.08517189, 0.08779554,\n",
              "       0.09041919, 0.09304283, 0.09566648, 0.09829013, 0.10091378,\n",
              "       0.10353743, 0.10616107, 0.10878472, 0.11140837, 0.11403202,\n",
              "       0.11665566, 0.11927931, 0.12190296, 0.12452661, 0.12715026,\n",
              "       0.1297739 , 0.13239755, 0.1350212 , 0.13764485, 0.1402685 ,\n",
              "       0.14289214, 0.14551579, 0.14813944, 0.15076309, 0.15338673,\n",
              "       0.15601038, 0.15863403, 0.16125768, 0.16388133, 0.16650497,\n",
              "       0.16912862, 0.17175227, 0.17437592, 0.17699957, 0.17962321,\n",
              "       0.18224686, 0.18487051, 0.18749416, 0.1901178 , 0.19274145,\n",
              "       0.1953651 , 0.19798875, 0.2006124 , 0.20323604, 0.20585969,\n",
              "       0.20848334, 0.21110699, 0.21373064, 0.21635428, 0.21897793,\n",
              "       0.22160158, 0.22422523, 0.22684887, 0.22947252, 0.23209617,\n",
              "       0.23471982, 0.23734347, 0.23996711, 0.24259076, 0.24521441,\n",
              "       0.24783806, 0.25046171, 0.25308535, 0.255709  , 0.25833265,\n",
              "       0.2609563 , 0.26357994, 0.26620359, 0.26882724, 0.27145089,\n",
              "       0.27407454, 0.27669818, 0.27932183, 0.28194548, 0.28456913])"
            ]
          },
          "metadata": {},
          "execution_count": 111
        }
      ],
      "source": [
        "# Hay que coger un threshold grande para conseguir que realmente filtre, aunque en el ejemplo ponga 1 sd mayor\n",
        "threshold_range = np.linspace(np.mean(train_loss), np.mean(train_loss) + 30*np.std(train_loss), 100)\n",
        "threshold_range"
      ]
    },
    {
      "cell_type": "code",
      "execution_count": 112,
      "id": "b56608aa-d457-4ef4-a776-1446aec0ab9a",
      "metadata": {
        "id": "b56608aa-d457-4ef4-a776-1446aec0ab9a",
        "colab": {
          "base_uri": "https://localhost:8080/"
        },
        "outputId": "c47f0660-c1da-4015-f6c4-96d892afdea5"
      },
      "outputs": [
        {
          "output_type": "stream",
          "name": "stdout",
          "text": [
            "7108/7108 [==============================] - 12s 2ms/step\n"
          ]
        }
      ],
      "source": [
        "# Para los datos de training, tenemos que coger un threshold en el que casi ninguna muestra sea predicha como un pago fraudulento.\n",
        "# Por lo que escogemos un threshold en el que el numero de errores en la predicción sea bajo.\n",
        "reconstructions = autoencoder.predict(normal_train_data)\n",
        "train_loss = tf.keras.losses.mae(reconstructions, normal_train_data)\n",
        "\n",
        "\n",
        "errors = {}\n",
        "for threshold in threshold_range:\n",
        "  predictions = tf.math.less(train_loss, threshold)\n",
        "\n",
        "  # Compare the two boolean arrays element-wise\n",
        "  not_same_values = np.sum(train_labels[train_labels] != predictions)\n",
        "  acc = accuracy_score(train_labels[train_labels], predictions)\n",
        "  precision = precision_score(train_labels[train_labels], predictions)\n",
        "  recall = recall_score(train_labels[train_labels], predictions)\n",
        "  errors[threshold] = {\"n_fraudulent\":not_same_values.copy(),\"acc\":acc, \"precision\":precision,\"recall\":recall}\n",
        "\n",
        "\n"
      ]
    },
    {
      "cell_type": "code",
      "source": [
        "# errors"
      ],
      "metadata": {
        "id": "dCzmYZMJ3rGq"
      },
      "id": "dCzmYZMJ3rGq",
      "execution_count": 113,
      "outputs": []
    },
    {
      "cell_type": "code",
      "source": [
        "\n",
        "# Value to search for within the sub-dictionaries\n",
        "target_accuracy_value = 0.95\n",
        "threshold_final = 0\n",
        "# Iterate over the items in the outer dictionary\n",
        "for key, sub_dict in errors.items():\n",
        "    # Check if the target value is present in the sub-dictionary values\n",
        "    if target_accuracy_value < sub_dict[\"acc\"]:\n",
        "      # If found, print the key\n",
        "      threshold_final = key\n",
        "      break\n",
        "\n",
        "print(\"Final selected threshold for an accuracy of 95% within the train data is: \", threshold_final)\n"
      ],
      "metadata": {
        "id": "3H_PtorRrCu_",
        "colab": {
          "base_uri": "https://localhost:8080/"
        },
        "outputId": "ffbe924a-fa29-4a56-a4b0-f3d56f6cbffd"
      },
      "id": "3H_PtorRrCu_",
      "execution_count": 114,
      "outputs": [
        {
          "output_type": "stream",
          "name": "stdout",
          "text": [
            "Final selected threshold for an accuracy of 95% within the train data is:  0.04056987653371782\n"
          ]
        }
      ]
    },
    {
      "cell_type": "code",
      "source": [
        "reconstructions = autoencoder.predict(data_train_normalized)\n",
        "train_loss = tf.keras.losses.mae(reconstructions, data_train_normalized)\n",
        "\n",
        "\n",
        "accuracy = []\n",
        "recall = []\n",
        "true_positives = []\n",
        "false_positives = []\n",
        "errors = {}\n",
        "\n",
        "for threshold in threshold_range:\n",
        "  predictions = np.where(test_loss > threshold, 1, 0)\n",
        "\n",
        "\n",
        "  # Compare the two boolean arrays element-wise\n",
        "  acc = accuracy_score(original_train_labels, predictions)\n",
        "  accuracy.append(acc)\n",
        "\n",
        "  rec = recall_score(original_train_labels, predictions)\n",
        "  recall.append(rec)\n",
        "\n",
        "  f_positive = false_positive_rate(original_train_labels, predictions)\n",
        "  false_positives.append(f_positive)\n",
        "\n",
        "  t_positive = true_positive_rate(original_train_labels, predictions)\n",
        "  true_positives.append(t_positive)\n",
        "\n",
        "  errors[threshold] = {\"acc\":acc, \"recall\":rec,\"true_positive\": t_positive, \"false_positive\" : f_positive}\n"
      ],
      "metadata": {
        "colab": {
          "base_uri": "https://localhost:8080/"
        },
        "id": "vDwMbED4q9NE",
        "outputId": "526e0e20-55f1-44a5-8d45-c1a5940782c4"
      },
      "id": "vDwMbED4q9NE",
      "execution_count": 115,
      "outputs": [
        {
          "output_type": "stream",
          "name": "stdout",
          "text": [
            "7121/7121 [==============================] - 13s 2ms/step\n"
          ]
        }
      ]
    },
    {
      "cell_type": "code",
      "source": [
        "plt.plot(threshold_range, accuracy, label = 'Accuracy')\n",
        "plt.plot(threshold_range, recall, label = 'Recall')\n",
        "plt.plot(threshold_range, true_positives, label = 'True Positives')\n",
        "plt.plot(threshold_range, false_positives, label = 'False Positives')\n",
        "\n",
        "\n",
        "\n",
        "plt.legend()"
      ],
      "metadata": {
        "id": "wP0orOLdwGge",
        "colab": {
          "base_uri": "https://localhost:8080/",
          "height": 447
        },
        "outputId": "9f69506a-e910-48f0-d48e-f04f67918c6b"
      },
      "id": "wP0orOLdwGge",
      "execution_count": 116,
      "outputs": [
        {
          "output_type": "execute_result",
          "data": {
            "text/plain": [
              "<matplotlib.legend.Legend at 0x7b8dbab16290>"
            ]
          },
          "metadata": {},
          "execution_count": 116
        },
        {
          "output_type": "display_data",
          "data": {
            "text/plain": [
              "<Figure size 640x480 with 1 Axes>"
            ],
            "image/png": "[encoded data removed]"
          },
          "metadata": {}
        }
      ]
    },
    {
      "cell_type": "markdown",
      "source": [
        "**Haciendo la misma prueba sobre los fraudulentos, podemos observar que ningun error de reconstrucción está por debajo del threshold final. Por lo que el modelo los categorizaría TODOS como fraudulentos. Es decir, que es capaz de detectar los pagos fraudulentos perfectamente. Por otro lado, con este threshold, podemos detectar con un 95% de precisión los pagos no fraudulentos!**"
      ],
      "metadata": {
        "id": "qOxQqljH0jqY"
      },
      "id": "qOxQqljH0jqY"
    },
    {
      "cell_type": "code",
      "source": [
        "reconstructions = autoencoder.predict(anomalous_train_data)\n",
        "train_loss = tf.keras.losses.mae(reconstructions, anomalous_train_data)\n",
        "predictions = tf.math.less(train_loss, threshold_final)\n",
        "# Ninguna predicción sale True, lo que significa que ningún error de reconstrucción es menor que el threshold final.\n",
        "predictions"
      ],
      "metadata": {
        "colab": {
          "base_uri": "https://localhost:8080/"
        },
        "id": "0hSGrJAR0jfr",
        "outputId": "96cc2a3b-09a5-4115-eb56-b4a1ddc8a9db"
      },
      "id": "0hSGrJAR0jfr",
      "execution_count": 117,
      "outputs": [
        {
          "output_type": "stream",
          "name": "stdout",
          "text": [
            "13/13 [==============================] - 0s 2ms/step\n"
          ]
        },
        {
          "output_type": "execute_result",
          "data": {
            "text/plain": [
              "<tf.Tensor: shape=(391,), dtype=bool, numpy=\n",
              "array([False, False, False, False, False, False, False, False, False,\n",
              "       False, False, False, False, False, False, False, False, False,\n",
              "       False, False, False, False, False, False, False, False, False,\n",
              "       False, False, False, False, False, False, False, False, False,\n",
              "       False, False, False, False, False, False, False, False, False,\n",
              "       False, False, False, False, False, False, False, False, False,\n",
              "       False, False, False, False, False, False, False, False, False,\n",
              "       False, False, False, False, False, False, False, False, False,\n",
              "       False, False, False, False, False, False, False, False, False,\n",
              "       False, False, False, False, False, False, False, False, False,\n",
              "       False, False, False, False, False, False, False, False, False,\n",
              "       False, False, False, False, False, False, False, False, False,\n",
              "       False, False, False, False, False, False, False, False, False,\n",
              "       False, False, False, False, False, False, False, False, False,\n",
              "       False, False, False, False, False, False, False, False, False,\n",
              "       False, False, False, False, False, False, False, False, False,\n",
              "       False, False, False, False, False, False, False, False, False,\n",
              "       False, False, False, False, False, False, False, False, False,\n",
              "       False, False, False, False, False, False, False, False, False,\n",
              "       False, False, False, False, False, False, False, False, False,\n",
              "       False, False, False, False, False, False, False, False, False,\n",
              "       False, False, False, False, False, False, False, False, False,\n",
              "       False, False, False, False, False, False, False, False, False,\n",
              "       False, False, False, False, False, False, False, False, False,\n",
              "       False, False, False, False, False, False, False, False, False,\n",
              "       False, False, False, False, False, False, False, False, False,\n",
              "       False, False, False, False, False, False, False, False, False,\n",
              "       False, False, False, False, False, False, False, False, False,\n",
              "       False, False, False, False, False, False, False, False, False,\n",
              "       False, False, False, False, False, False, False, False, False,\n",
              "       False, False, False, False, False, False, False, False, False,\n",
              "       False, False, False, False, False, False, False, False, False,\n",
              "       False, False, False, False, False, False, False, False, False,\n",
              "       False, False, False, False, False, False, False, False, False,\n",
              "       False, False, False, False, False, False, False, False, False,\n",
              "       False, False, False, False, False, False, False, False, False,\n",
              "       False, False, False, False, False, False, False, False, False,\n",
              "       False, False, False, False, False, False, False, False, False,\n",
              "       False, False, False, False, False, False, False, False, False,\n",
              "       False, False, False, False, False, False, False, False, False,\n",
              "       False, False, False, False, False, False, False, False, False,\n",
              "       False, False, False, False, False, False, False, False, False,\n",
              "       False, False, False, False, False, False, False, False, False,\n",
              "       False, False, False, False])>"
            ]
          },
          "metadata": {},
          "execution_count": 117
        }
      ]
    },
    {
      "cell_type": "markdown",
      "source": [
        "Finalmente, con todo el dataset de train"
      ],
      "metadata": {
        "id": "l8S3a72ypplv"
      },
      "id": "l8S3a72ypplv"
    },
    {
      "cell_type": "code",
      "source": [],
      "metadata": {
        "id": "c_7XSmXXpnZa"
      },
      "id": "c_7XSmXXpnZa",
      "execution_count": 117,
      "outputs": []
    },
    {
      "cell_type": "markdown",
      "id": "1c904a2f-2dd9-4d6d-a85d-1caf0d76dec0",
      "metadata": {
        "id": "1c904a2f-2dd9-4d6d-a85d-1caf0d76dec0"
      },
      "source": [
        "## Evaluación en test\n",
        "Tomando un valor del threshold que considere adecuado, calcule la precisión, el recall, el false positive rate y el true positive rate sobre el dataset de test."
      ]
    },
    {
      "cell_type": "code",
      "execution_count": 118,
      "id": "0355c10e-f76a-4c8e-bce2-16930bb29017",
      "metadata": {
        "id": "0355c10e-f76a-4c8e-bce2-16930bb29017",
        "colab": {
          "base_uri": "https://localhost:8080/"
        },
        "outputId": "668f1dd4-89b4-4247-db52-d144d1900e27"
      },
      "outputs": [
        {
          "output_type": "stream",
          "name": "stdout",
          "text": [
            "0.04056987653371782\n",
            "1781/1781 [==============================] - 3s 1ms/step\n",
            "Accuracy = 0.965696429198413\n",
            "Recall = 0.8613861386138614\n",
            "False positive rate = 0.03411828845781819\n",
            "True Positive rate = 0.8613861386138614\n"
          ]
        }
      ],
      "source": [
        "# Choose a threshold value that is one standard deviations above the mean.\n",
        "\n",
        "print(threshold_final)\n",
        "\n",
        "reconstructions = autoencoder.predict(data_test_normalized)\n",
        "test_loss = tf.keras.losses.mae(reconstructions, data_test_normalized)\n",
        "\n",
        "pred = np.where(test_loss > threshold_final, 1, 0) # Para que vaya más rápido\n",
        "# pred = [0 if l <= threshold else 1 for l in test_loss]\n",
        "\n",
        "compute_metrics(original_test_labels, pred)\n",
        "\n"
      ]
    },
    {
      "cell_type": "code",
      "execution_count": 118,
      "id": "24f6156c-71a0-4eef-978a-47078349a2b1",
      "metadata": {
        "id": "24f6156c-71a0-4eef-978a-47078349a2b1"
      },
      "outputs": [],
      "source": []
    },
    {
      "cell_type": "code",
      "execution_count": 118,
      "id": "f36924b8-87ce-4d4d-8f76-df66e4af993c",
      "metadata": {
        "id": "f36924b8-87ce-4d4d-8f76-df66e4af993c"
      },
      "outputs": [],
      "source": []
    },
    {
      "cell_type": "code",
      "execution_count": 118,
      "id": "29bcb0ba-5d9b-4e43-a853-b2e3b141e7ff",
      "metadata": {
        "id": "29bcb0ba-5d9b-4e43-a853-b2e3b141e7ff"
      },
      "outputs": [],
      "source": []
    },
    {
      "cell_type": "markdown",
      "id": "6dca7312-ddf5-479d-b197-06b8b2513539",
      "metadata": {
        "id": "6dca7312-ddf5-479d-b197-06b8b2513539"
      },
      "source": [
        "# Sparse AutoEncoder"
      ]
    },
    {
      "cell_type": "markdown",
      "id": "da5c73df-c948-4d60-baa8-9b72d5434c6d",
      "metadata": {
        "id": "da5c73df-c948-4d60-baa8-9b72d5434c6d"
      },
      "source": [
        "## Creación del modelo\n",
        "Repitamos todo el proceso pero usando un sparse autoencoder. Solamente añada regularización l1 en la última capa del encoder. Además, puede probar a aumentar un poco la dimensión del encoding."
      ]
    },
    {
      "cell_type": "code",
      "execution_count": 119,
      "id": "664a79ed-1802-4bea-92ce-fd6f1c57a12e",
      "metadata": {
        "id": "664a79ed-1802-4bea-92ce-fd6f1c57a12e",
        "colab": {
          "base_uri": "https://localhost:8080/"
        },
        "outputId": "5bbc3ece-425f-4090-9154-568d6bf0b82d"
      },
      "outputs": [
        {
          "output_type": "stream",
          "name": "stdout",
          "text": [
            "Model: \"model_6\"\n",
            "_________________________________________________________________\n",
            " Layer (type)                Output Shape              Param #   \n",
            "=================================================================\n",
            " input_7 (InputLayer)        [(None, 29)]              0         \n",
            "                                                                 \n",
            " dense_24 (Dense)            (None, 16)                480       \n",
            "                                                                 \n",
            " dense_25 (Dense)            (None, 8)                 136       \n",
            "                                                                 \n",
            " dense_26 (Dense)            (None, 16)                144       \n",
            "                                                                 \n",
            " dense_27 (Dense)            (None, 29)                493       \n",
            "                                                                 \n",
            "=================================================================\n",
            "Total params: 1253 (4.89 KB)\n",
            "Trainable params: 1253 (4.89 KB)\n",
            "Non-trainable params: 0 (0.00 Byte)\n",
            "_________________________________________________________________\n"
          ]
        }
      ],
      "source": [
        "input_tensor = Input(shape=(29,))\n",
        "encoded = layers.Dense(16, activation='relu')(input_tensor)\n",
        "encoded = layers.Dense(8, activation='relu', activity_regularizer=tf.keras.regularizers.l1(10e-5))(encoded)\n",
        "\n",
        "decoded = layers.Dense(16, activation='relu')(encoded)\n",
        "decoded = layers.Dense(29, activation='sigmoid')(decoded)\n",
        "\n",
        "\n",
        "autoencoder = Model(input_tensor, decoded)\n",
        "autoencoder.compile(optimizer='adam', loss='mae')\n",
        "\n",
        "autoencoder.summary()"
      ]
    },
    {
      "cell_type": "code",
      "execution_count": 119,
      "id": "29b95bd2-20f1-4605-92d1-e53f9bb6188b",
      "metadata": {
        "id": "29b95bd2-20f1-4605-92d1-e53f9bb6188b"
      },
      "outputs": [],
      "source": []
    },
    {
      "cell_type": "code",
      "execution_count": 119,
      "id": "85c6ba2e-1722-4771-8f66-619cdf97dece",
      "metadata": {
        "id": "85c6ba2e-1722-4771-8f66-619cdf97dece"
      },
      "outputs": [],
      "source": []
    },
    {
      "cell_type": "code",
      "execution_count": 119,
      "id": "5829e584-aad5-479c-8d52-105ba0ded3bc",
      "metadata": {
        "id": "5829e584-aad5-479c-8d52-105ba0ded3bc"
      },
      "outputs": [],
      "source": []
    },
    {
      "cell_type": "markdown",
      "id": "7d6d4091-74f6-4208-a6ff-b8e56dbc11ce",
      "metadata": {
        "id": "7d6d4091-74f6-4208-a6ff-b8e56dbc11ce"
      },
      "source": [
        "## Entrenamiento"
      ]
    },
    {
      "cell_type": "code",
      "execution_count": 120,
      "id": "f3d1b925-0c1d-4a8c-b342-897305195427",
      "metadata": {
        "id": "f3d1b925-0c1d-4a8c-b342-897305195427",
        "colab": {
          "base_uri": "https://localhost:8080/"
        },
        "outputId": "f4c785dd-83f6-4aad-cfd1-58826d0ec6a6"
      },
      "outputs": [
        {
          "output_type": "stream",
          "name": "stdout",
          "text": [
            "Epoch 1/20\n",
            "56/56 [==============================] - 2s 13ms/step - loss: 0.1319 - val_loss: 0.1017\n",
            "Epoch 2/20\n",
            "56/56 [==============================] - 0s 9ms/step - loss: 0.0704 - val_loss: 0.0412\n",
            "Epoch 3/20\n",
            "56/56 [==============================] - 1s 9ms/step - loss: 0.0329 - val_loss: 0.0288\n",
            "Epoch 4/20\n",
            "56/56 [==============================] - 1s 9ms/step - loss: 0.0284 - val_loss: 0.0282\n",
            "Epoch 5/20\n",
            "56/56 [==============================] - 1s 9ms/step - loss: 0.0281 - val_loss: 0.0280\n",
            "Epoch 6/20\n",
            "56/56 [==============================] - 1s 9ms/step - loss: 0.0280 - val_loss: 0.0279\n",
            "Epoch 7/20\n",
            "56/56 [==============================] - 1s 10ms/step - loss: 0.0279 - val_loss: 0.0278\n",
            "Epoch 8/20\n",
            "56/56 [==============================] - 1s 11ms/step - loss: 0.0278 - val_loss: 0.0278\n",
            "Epoch 9/20\n",
            "56/56 [==============================] - 1s 9ms/step - loss: 0.0278 - val_loss: 0.0277\n",
            "Epoch 10/20\n",
            "56/56 [==============================] - 1s 9ms/step - loss: 0.0277 - val_loss: 0.0277\n",
            "Epoch 11/20\n",
            "56/56 [==============================] - 0s 9ms/step - loss: 0.0277 - val_loss: 0.0276\n",
            "Epoch 12/20\n",
            "56/56 [==============================] - 1s 9ms/step - loss: 0.0276 - val_loss: 0.0275\n",
            "Epoch 13/20\n",
            "56/56 [==============================] - 1s 11ms/step - loss: 0.0275 - val_loss: 0.0274\n",
            "Epoch 14/20\n",
            "56/56 [==============================] - 1s 16ms/step - loss: 0.0273 - val_loss: 0.0271\n",
            "Epoch 15/20\n",
            "56/56 [==============================] - 1s 17ms/step - loss: 0.0269 - val_loss: 0.0267\n",
            "Epoch 16/20\n",
            "56/56 [==============================] - 1s 16ms/step - loss: 0.0267 - val_loss: 0.0265\n",
            "Epoch 17/20\n",
            "56/56 [==============================] - 1s 15ms/step - loss: 0.0265 - val_loss: 0.0264\n",
            "Epoch 18/20\n",
            "56/56 [==============================] - 1s 12ms/step - loss: 0.0264 - val_loss: 0.0264\n",
            "Epoch 19/20\n",
            "56/56 [==============================] - 1s 10ms/step - loss: 0.0264 - val_loss: 0.0263\n",
            "Epoch 20/20\n",
            "56/56 [==============================] - 1s 9ms/step - loss: 0.0263 - val_loss: 0.0262\n"
          ]
        }
      ],
      "source": [
        "history = autoencoder.fit(normal_train_data, normal_train_data,\n",
        "          epochs=20,\n",
        "          batch_size=1024*4, # Batch alto te quita overfitting - nos intersan muchos datos para que caigan batchs con anomalías en el test?\n",
        "          validation_data=(normal_test_data, normal_test_data),\n",
        "          shuffle=True)"
      ]
    },
    {
      "cell_type": "markdown",
      "id": "dba8a701-78fd-4ece-aca1-1a6b63c20b51",
      "metadata": {
        "id": "dba8a701-78fd-4ece-aca1-1a6b63c20b51"
      },
      "source": [
        "## Análisis de error de reconstrucción\n",
        "Calcule el error cuadrático medio entre cada una de las muestras del dataset de train y la reconstrucción pasando por el autoencoder. Dibuje el histograma del error en los pagos fraudulentos y en los normales por separado en una misma gráfica. Comente los resultados."
      ]
    },
    {
      "cell_type": "code",
      "execution_count": 121,
      "id": "081ee177-949c-4e3f-81b1-605f6b4e9a3c",
      "metadata": {
        "id": "081ee177-949c-4e3f-81b1-605f6b4e9a3c",
        "colab": {
          "base_uri": "https://localhost:8080/",
          "height": 447
        },
        "outputId": "a7941c28-7cb4-47f8-f4de-b6ec5038306b"
      },
      "outputs": [
        {
          "output_type": "execute_result",
          "data": {
            "text/plain": [
              "<matplotlib.legend.Legend at 0x7b8dbaa5a7d0>"
            ]
          },
          "metadata": {},
          "execution_count": 121
        },
        {
          "output_type": "display_data",
          "data": {
            "text/plain": [
              "<Figure size 640x480 with 1 Axes>"
            ],
            "image/png": "[encoded data removed]"
          },
          "metadata": {}
        }
      ],
      "source": [
        "plt.plot(history.history[\"loss\"], label=\"Training Loss\")\n",
        "plt.plot(history.history[\"val_loss\"], label=\"Validation Loss\")\n",
        "plt.legend()\n"
      ]
    },
    {
      "cell_type": "code",
      "execution_count": 122,
      "id": "2ee26590-630f-494a-9646-02b046dcc03a",
      "metadata": {
        "id": "2ee26590-630f-494a-9646-02b046dcc03a",
        "colab": {
          "base_uri": "https://localhost:8080/",
          "height": 916
        },
        "outputId": "703d6764-62b0-4fd6-9fb7-b55ff249d45d"
      },
      "outputs": [
        {
          "output_type": "stream",
          "name": "stdout",
          "text": [
            "7108/7108 [==============================] - 14s 2ms/step\n"
          ]
        },
        {
          "output_type": "display_data",
          "data": {
            "text/plain": [
              "<Figure size 640x480 with 1 Axes>"
            ],
            "image/png": "[encoded data removed]"
          },
          "metadata": {}
        },
        {
          "output_type": "stream",
          "name": "stdout",
          "text": [
            "4/4 [==============================] - 0s 3ms/step\n"
          ]
        },
        {
          "output_type": "display_data",
          "data": {
            "text/plain": [
              "<Figure size 640x480 with 1 Axes>"
            ],
            "image/png": "[encoded data removed]"
          },
          "metadata": {}
        }
      ],
      "source": [
        "# Ploteamos los errores de los datos normales\n",
        "reconstructions = autoencoder.predict(normal_train_data)\n",
        "train_loss = tf.keras.losses.mae(reconstructions, normal_train_data)\n",
        "\n",
        "plt.hist(train_loss[None,:], bins=50)\n",
        "plt.xlabel(\"Train loss\")\n",
        "plt.ylabel(\"No of examples\")\n",
        "plt.show()\n",
        "\n",
        "\n",
        "reconstructions = autoencoder.predict(anomalous_test_data)\n",
        "test_loss = tf.keras.losses.mae(reconstructions, anomalous_test_data)\n",
        "\n",
        "\n",
        "fig = plt.figure()\n",
        "plt.hist(test_loss[None, :], bins=50)\n",
        "plt.xlabel(\"Test loss\")\n",
        "plt.ylabel(\"No of examples\")\n",
        "plt.show()"
      ]
    },
    {
      "cell_type": "markdown",
      "source": [
        "## Elección del threshold\n",
        "Calcule las mismas métricas de antes en función del threshold. Pinte en la misma gráfica la curva del autoencoder y la del sparse autoencoder. ¿Cuál funciona mejor?"
      ],
      "metadata": {
        "id": "LsKFePsIwt_T"
      },
      "id": "LsKFePsIwt_T"
    },
    {
      "cell_type": "code",
      "execution_count": 123,
      "id": "78423313-16b4-419d-a97e-1b8ea0666a95",
      "metadata": {
        "id": "78423313-16b4-419d-a97e-1b8ea0666a95",
        "colab": {
          "base_uri": "https://localhost:8080/"
        },
        "outputId": "5df654b6-19e6-4dcf-d4ca-d1c836fd18b6"
      },
      "outputs": [
        {
          "output_type": "stream",
          "name": "stdout",
          "text": [
            "7108/7108 [==============================] - 13s 2ms/step\n"
          ]
        }
      ],
      "source": [
        "# Para los datos de training, tenemos que coger un threshold en el que casi ninguna muestra sea predicha como un pago fraudulento.\n",
        "# Por lo que escogemos un threshold en el que el numero de errores en la predicción sea bajo.\n",
        "reconstructions = autoencoder.predict(normal_train_data)\n",
        "train_loss = tf.keras.losses.mae(reconstructions, normal_train_data)\n",
        "\n",
        "errors = {}\n",
        "for threshold in threshold_range:\n",
        "  predictions = tf.math.less(train_loss, threshold)\n",
        "  # Compare the two boolean arrays element-wise\n",
        "  not_same_values = np.sum(train_labels[train_labels] != predictions)\n",
        "  acc = accuracy_score(train_labels[train_labels], predictions)\n",
        "  precision = precision_score(train_labels[train_labels], predictions)\n",
        "  recall = recall_score(train_labels[train_labels], predictions)\n",
        "  errors[threshold] = {\"n_fraudulent\":not_same_values.copy(),\"acc\":acc, \"precision\":precision,\"recall\":recall}\n",
        "\n"
      ]
    },
    {
      "cell_type": "code",
      "execution_count": 124,
      "id": "4c03bab2-f8e8-4d1a-bae8-5ffa69ebb9f8",
      "metadata": {
        "id": "4c03bab2-f8e8-4d1a-bae8-5ffa69ebb9f8",
        "colab": {
          "base_uri": "https://localhost:8080/"
        },
        "outputId": "6ba05859-7b07-4a80-abb6-6b2e70760db0"
      },
      "outputs": [
        {
          "output_type": "stream",
          "name": "stdout",
          "text": [
            "Final selected threshold for an accuracy of 95% within the train data is:  0.04056987653371782\n"
          ]
        }
      ],
      "source": [
        "# Value to search for within the sub-dictionaries\n",
        "target_accuracy_value = 0.95\n",
        "threshold_final = 0\n",
        "# Iterate over the items in the outer dictionary\n",
        "for key, sub_dict in errors.items():\n",
        "    # Check if the target value is present in the sub-dictionary values\n",
        "    if target_accuracy_value < sub_dict[\"acc\"]:\n",
        "      # If found, print the key\n",
        "      threshold_final = key\n",
        "      break\n",
        "\n",
        "print(\"Final selected threshold for an accuracy of 95% within the train data is: \", threshold_final)"
      ]
    },
    {
      "cell_type": "code",
      "execution_count": 125,
      "id": "b7d2fc46-8b5f-4664-ab2f-b5562ada9509",
      "metadata": {
        "id": "b7d2fc46-8b5f-4664-ab2f-b5562ada9509",
        "colab": {
          "base_uri": "https://localhost:8080/",
          "height": 465
        },
        "outputId": "471877d0-2640-46dd-dd14-61d09083d8a1"
      },
      "outputs": [
        {
          "output_type": "stream",
          "name": "stdout",
          "text": [
            "7121/7121 [==============================] - 13s 2ms/step\n"
          ]
        },
        {
          "output_type": "execute_result",
          "data": {
            "text/plain": [
              "<matplotlib.legend.Legend at 0x7b8da30529e0>"
            ]
          },
          "metadata": {},
          "execution_count": 125
        },
        {
          "output_type": "display_data",
          "data": {
            "text/plain": [
              "<Figure size 640x480 with 1 Axes>"
            ],
            "image/png": "[encoded data removed]"
          },
          "metadata": {}
        }
      ],
      "source": [
        "reconstructions = autoencoder.predict(data_train_normalized)\n",
        "train_loss = tf.keras.losses.mae(reconstructions, data_train_normalized)\n",
        "\n",
        "\n",
        "accuracy = []\n",
        "recall = []\n",
        "true_positives = []\n",
        "false_positives = []\n",
        "errors = {}\n",
        "\n",
        "for threshold in threshold_range:\n",
        "  predictions = np.where(train_loss > threshold, 1, 0)\n",
        "\n",
        "\n",
        "  # Compare the two boolean arrays element-wise\n",
        "  acc = accuracy_score(original_train_labels, predictions)\n",
        "  accuracy.append(acc)\n",
        "\n",
        "  rec = recall_score(original_train_labels, predictions)\n",
        "  recall.append(rec)\n",
        "\n",
        "  f_positive = false_positive_rate(original_train_labels, predictions)\n",
        "  false_positives.append(f_positive)\n",
        "\n",
        "  t_positive = true_positive_rate(original_train_labels, predictions)\n",
        "  true_positives.append(t_positive)\n",
        "\n",
        "  errors[threshold] = {\"acc\":acc, \"recall\":rec,\"true_positive\": t_positive, \"false_positive\" : f_positive}\n",
        "\n",
        "\n",
        "plt.plot(threshold_range, accuracy, label = 'Accuracy')\n",
        "plt.plot(threshold_range, recall, label = 'Recall')\n",
        "plt.plot(threshold_range, true_positives, label = 'True Positives')\n",
        "plt.plot(threshold_range, false_positives, label = 'False Positives')\n",
        "\n",
        "\n",
        "\n",
        "plt.legend()\n"
      ]
    },
    {
      "cell_type": "markdown",
      "id": "ab74049b-4a7a-4877-b2ce-86eb2f020d7d",
      "metadata": {
        "id": "ab74049b-4a7a-4877-b2ce-86eb2f020d7d"
      },
      "source": [
        "## Evaluación en test\n",
        "Tomando un valor del threshold que considere adecuado, calcule la precisión, el recall, el false positive rate y el true positive rate sobre el dataset de test."
      ]
    },
    {
      "cell_type": "code",
      "execution_count": 126,
      "id": "0b576a7a-fc10-4708-8713-867997ff6158",
      "metadata": {
        "id": "0b576a7a-fc10-4708-8713-867997ff6158",
        "colab": {
          "base_uri": "https://localhost:8080/"
        },
        "outputId": "cfb29994-b4de-480c-edd5-f4c066ba0164"
      },
      "outputs": [
        {
          "output_type": "stream",
          "name": "stdout",
          "text": [
            "0.04056987653371782\n",
            "1781/1781 [==============================] - 3s 2ms/step\n",
            "Accuracy = 0.9559706470980653\n",
            "Recall = 0.8712871287128713\n",
            "False positive rate = 0.04387893283621463\n",
            "True Positive rate = 0.8712871287128713\n"
          ]
        }
      ],
      "source": [
        "print(threshold_final)\n",
        "\n",
        "reconstructions = autoencoder.predict(data_test_normalized)\n",
        "test_loss = tf.keras.losses.mae(reconstructions, data_test_normalized)\n",
        "\n",
        "pred = np.where(test_loss > threshold_final, 1, 0) # Para que vaya más rápido\n",
        "# pred = [0 if l <= threshold else 1 for l in test_loss]\n",
        "\n",
        "compute_metrics(original_test_labels, pred)\n"
      ]
    },
    {
      "cell_type": "code",
      "execution_count": 127,
      "id": "f753ba3d-a616-448f-8b49-b07e841b965f",
      "metadata": {
        "id": "f753ba3d-a616-448f-8b49-b07e841b965f"
      },
      "outputs": [],
      "source": [
        "## Comparación con el modelo anterior\n",
        "\n",
        "# 0.04055768189841171\n",
        "# 1781/1781 [==============================] - 6s 3ms/step\n",
        "# Accuracy = 0.9648362065938696\n",
        "# Recall = 0.8613861386138614\n",
        "# False positive rate = 0.034980039042577515\n",
        "# True Positive rate = 0.8613861386138614"
      ]
    },
    {
      "cell_type": "code",
      "execution_count": 128,
      "id": "d398d92e-1a2b-4db0-88c4-5673314c722c",
      "metadata": {
        "id": "d398d92e-1a2b-4db0-88c4-5673314c722c"
      },
      "outputs": [],
      "source": [
        "# Son muy parecidos, elegimos el segundo modelo"
      ]
    },
    {
      "cell_type": "code",
      "execution_count": 128,
      "id": "bc58ae66-2024-4cda-b5f3-7d6239a780ba",
      "metadata": {
        "id": "bc58ae66-2024-4cda-b5f3-7d6239a780ba"
      },
      "outputs": [],
      "source": []
    },
    {
      "cell_type": "markdown",
      "id": "04952135-b961-4010-afb4-566ed2fc110f",
      "metadata": {
        "id": "04952135-b961-4010-afb4-566ed2fc110f"
      },
      "source": [
        "# Elección del threshold en base a un Caso de Uso\n",
        "En este apartado tome la versión del autoencoder que haya dado mejores resultados.\n",
        "\n",
        "Planteemos el siguiente Caso de Uso:\n",
        "\n",
        "Cuando detectamos que un pago puede ser fraudulento, podemos hacer una llamada al cliente para que confirme que ha sido él quien ha realizado el pago; en este caso estimamos el coste de la llamada en 50 céntimos.\n",
        "También podemos confiar en que el cliente posteriormente nos llame para notificar el fraude y cancelar el pago; en este caso, se realiza una gestión más cara que estimamos en unos 2 euros.\n",
        "\n",
        "¿Cuál debería ser el threshold para minimizar el coste? Explique el razonamiento."
      ]
    },
    {
      "cell_type": "code",
      "execution_count": 129,
      "id": "a2d064bf-f443-4786-96e3-74d5e706251b",
      "metadata": {
        "id": "a2d064bf-f443-4786-96e3-74d5e706251b"
      },
      "outputs": [],
      "source": [
        "COST_CALL = 0.5\n",
        "COST_CANCELATION = 2"
      ]
    },
    {
      "cell_type": "code",
      "execution_count": 130,
      "id": "bb9a040f-728d-4de8-805b-9130e32878c9",
      "metadata": {
        "id": "bb9a040f-728d-4de8-805b-9130e32878c9"
      },
      "outputs": [],
      "source": [
        "# Si True Positive -> Detecto bien un caso anómalo -> reduzco el coste que sería de 2€ a 0.5 (Ahorro 1.5€)\n",
        "# En (1 - TP) pierdo 2€\n",
        "# Si es un False Positive -> Detecto un caso anómalo y no lo hay -> Gasto 0.5€ cuando no era necesario (Gasto 0.5€)\n",
        "# Break even point -> Vale la pena equivocarse hasta 4 veces por detectar un caso anómalo\n",
        "\n",
        "# (1- TP) 4 veces menor que FP"
      ]
    },
    {
      "cell_type": "code",
      "execution_count": 131,
      "id": "d34a3fc7-b6af-4f2a-b94c-20c378080845",
      "metadata": {
        "id": "d34a3fc7-b6af-4f2a-b94c-20c378080845",
        "colab": {
          "base_uri": "https://localhost:8080/"
        },
        "outputId": "0374afe6-8b32-4175-f8ba-305989622e5d"
      },
      "outputs": [
        {
          "output_type": "stream",
          "name": "stdout",
          "text": [
            "Final selected threshold is 0.030075285094657928 with FP to TP ratio of 0.2640184826184815 which has an error of 0.014018482618481487 from the perfect value\n"
          ]
        }
      ],
      "source": [
        "# Value to search for within the sub-dictionaries\n",
        "target_ratio = 0.5/2\n",
        "best_value = 50 # Big number to start with\n",
        "threshold_final = 0\n",
        "# Iterate over the items in the outer dictionary\n",
        "for key, sub_dict in errors.items():\n",
        "    # Check if the target value is present in the sub-dictionary values\n",
        "\n",
        "    try:\n",
        "      ratio_error = abs(target_ratio - sub_dict[\"false_positive\"]/sub_dict['true_positive'])\n",
        "    except:\n",
        "      break\n",
        "\n",
        "    if ratio_error < best_value:\n",
        "      # If found, print the key\n",
        "      best_value = ratio_error\n",
        "      real_value = sub_dict[\"false_positive\"]/sub_dict['true_positive']\n",
        "      threshold_final = key\n",
        "\n",
        "print(f\"Final selected threshold is {threshold_final} with FP to TP ratio of {real_value} which has an error of {best_value} from the perfect value\")"
      ]
    },
    {
      "cell_type": "code",
      "execution_count": 131,
      "id": "c9242d6f-c65b-465d-8427-37b222ff330a",
      "metadata": {
        "id": "c9242d6f-c65b-465d-8427-37b222ff330a"
      },
      "outputs": [],
      "source": []
    },
    {
      "cell_type": "markdown",
      "source": [
        "# Conclusiones del estudio\n",
        "\n",
        "Detallar las principales conclusiones extraidas sobre la construcción del modelo Autoencoder, la comparativa entre modelos y su aplicación en sistemas de detección de anomalías."
      ],
      "metadata": {
        "id": "A1ivatC9b6jo"
      },
      "id": "A1ivatC9b6jo"
    },
    {
      "cell_type": "markdown",
      "source": [
        "En esta práctica hemos visto la gran capacidad que tienen los autoencoders como detectores de comportamientos anómalos. No hemos visto una diferencia considerable para este dataset con la sparsity. Es probable que con un mayor número de variables resulte una estrategia efectiva para reducir el ruido de las variables.\n",
        "\n",
        "Por útlimo hemos visto la gran adaptabilidad que tiene este sistema con la elección de thresholds que nos permite adaptar nuestro modelo para distintos casos de uso, como la reducción de costes en la gestión de incidencias.\n",
        "\n"
      ],
      "metadata": {
        "id": "2b2rtV4Ab975"
      },
      "id": "2b2rtV4Ab975"
    }
  ],
  "metadata": {
    "kernelspec": {
      "display_name": "kernel_icai",
      "language": "python",
      "name": "kernel_icai"
    },
    "language_info": {
      "codemirror_mode": {
        "name": "ipython",
        "version": 3
      },
      "file_extension": ".py",
      "mimetype": "text/x-python",
      "name": "python",
      "nbconvert_exporter": "python",
      "pygments_lexer": "ipython3",
      "version": "3.8.0"
    },
    "toc-autonumbering": true,
    "colab": {
      "provenance": []
    }
  },
  "nbformat": 4,
  "nbformat_minor": 5
}